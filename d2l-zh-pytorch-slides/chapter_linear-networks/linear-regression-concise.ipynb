{
 "cells": [
  {
   "cell_type": "markdown",
   "id": "5821cf5f",
   "metadata": {
    "slideshow": {
     "slide_type": "slide"
    }
   },
   "source": [
    "# 线性回归的简洁实现\n",
    "\n",
    "通过使用深度学习框架来简洁地实现\n",
    "线性回归模型\n",
    "生成数据集"
   ]
  },
  {
   "cell_type": "code",
   "execution_count": 2,
   "id": "312df8dd",
   "metadata": {
    "execution": {
     "iopub.execute_input": "2022-07-31T02:22:41.095796Z",
     "iopub.status.busy": "2022-07-31T02:22:41.095316Z",
     "iopub.status.idle": "2022-07-31T02:22:41.099772Z",
     "shell.execute_reply": "2022-07-31T02:22:41.099104Z"
    },
    "origin_pos": 4,
    "tab": [
     "pytorch"
    ]
   },
   "outputs": [],
   "source": [
    "import numpy as np\n",
    "import torch\n",
    "from torch.utils import data\n",
    "from d2l import torch as d2l\n",
    "\n",
    "true_w = torch.tensor([2, -3.4])\n",
    "true_b = 4.2\n",
    "features, labels = d2l.synthetic_data(true_w, true_b, 1000)"
   ]
  },
  {
   "cell_type": "markdown",
   "id": "5035ba45",
   "metadata": {
    "slideshow": {
     "slide_type": "slide"
    }
   },
   "source": [
    "调用框架中现有的API来读取数据"
   ]
  },
  {
   "cell_type": "code",
   "execution_count": 5,
   "id": "15550690",
   "metadata": {
    "execution": {
     "iopub.execute_input": "2022-07-31T02:22:41.115436Z",
     "iopub.status.busy": "2022-07-31T02:22:41.114992Z",
     "iopub.status.idle": "2022-07-31T02:22:41.123304Z",
     "shell.execute_reply": "2022-07-31T02:22:41.122663Z"
    },
    "origin_pos": 11,
    "tab": [
     "pytorch"
    ]
   },
   "outputs": [
    {
     "data": {
      "text/plain": [
       "[tensor([[ 0.7882, -0.7068],\n",
       "         [ 0.5081,  0.2577],\n",
       "         [-0.5769,  0.1545],\n",
       "         [-0.3271, -0.6080],\n",
       "         [-0.2716, -1.4628],\n",
       "         [-1.1530, -1.4643],\n",
       "         [ 0.1635, -0.2018],\n",
       "         [-0.0753, -1.1161],\n",
       "         [ 3.4251,  0.1953],\n",
       "         [ 0.3589, -0.9478]]),\n",
       " tensor([[ 8.1742],\n",
       "         [ 4.3357],\n",
       "         [ 2.5157],\n",
       "         [ 5.6106],\n",
       "         [ 8.6395],\n",
       "         [ 6.8726],\n",
       "         [ 5.2155],\n",
       "         [ 7.8377],\n",
       "         [10.3918],\n",
       "         [ 8.1590]])]"
      ]
     },
     "execution_count": 5,
     "metadata": {},
     "output_type": "execute_result"
    }
   ],
   "source": [
    "def load_array(data_arrays, batch_size, is_train=True):  \n",
    "    \"\"\"构造一个PyTorch数据迭代器\"\"\"\n",
    "    dataset = data.TensorDataset(*data_arrays)\n",
    "    return data.DataLoader(dataset, batch_size, shuffle=is_train)\n",
    "\n",
    "batch_size = 10\n",
    "data_iter = load_array((features, labels), batch_size)\n",
    "\n",
    "next(iter(data_iter))"
   ]
  },
  {
   "cell_type": "markdown",
   "id": "069948fb",
   "metadata": {
    "slideshow": {
     "slide_type": "slide"
    }
   },
   "source": [
    "使用框架的预定义好的层"
   ]
  },
  {
   "cell_type": "code",
   "execution_count": 6,
   "id": "c2839ee2",
   "metadata": {
    "execution": {
     "iopub.execute_input": "2022-07-31T02:22:41.126448Z",
     "iopub.status.busy": "2022-07-31T02:22:41.125870Z",
     "iopub.status.idle": "2022-07-31T02:22:41.129793Z",
     "shell.execute_reply": "2022-07-31T02:22:41.129180Z"
    },
    "origin_pos": 17,
    "tab": [
     "pytorch"
    ]
   },
   "outputs": [],
   "source": [
    "from torch import nn\n",
    "\n",
    "net = nn.Sequential(nn.Linear(2, 1))"
   ]
  },
  {
   "cell_type": "markdown",
   "id": "9be86327",
   "metadata": {
    "slideshow": {
     "slide_type": "-"
    }
   },
   "source": [
    "初始化模型参数"
   ]
  },
  {
   "cell_type": "code",
   "execution_count": 7,
   "id": "e875d503",
   "metadata": {
    "execution": {
     "iopub.execute_input": "2022-07-31T02:22:41.132837Z",
     "iopub.status.busy": "2022-07-31T02:22:41.132403Z",
     "iopub.status.idle": "2022-07-31T02:22:41.137625Z",
     "shell.execute_reply": "2022-07-31T02:22:41.137014Z"
    },
    "origin_pos": 24,
    "tab": [
     "pytorch"
    ]
   },
   "outputs": [
    {
     "data": {
      "text/plain": [
       "tensor([0.])"
      ]
     },
     "execution_count": 7,
     "metadata": {},
     "output_type": "execute_result"
    }
   ],
   "source": [
    "net[0].weight.data.normal_(0, 0.01)\n",
    "net[0].bias.data.fill_(0)"
   ]
  },
  {
   "cell_type": "markdown",
   "id": "c49faa3a",
   "metadata": {
    "slideshow": {
     "slide_type": "slide"
    }
   },
   "source": [
    "计算均方误差使用的是`MSELoss`类，也称为平方$L_2$范数"
   ]
  },
  {
   "cell_type": "code",
   "execution_count": 8,
   "id": "ce317bf9",
   "metadata": {
    "execution": {
     "iopub.execute_input": "2022-07-31T02:22:41.140732Z",
     "iopub.status.busy": "2022-07-31T02:22:41.140224Z",
     "iopub.status.idle": "2022-07-31T02:22:41.143455Z",
     "shell.execute_reply": "2022-07-31T02:22:41.142815Z"
    },
    "origin_pos": 34,
    "tab": [
     "pytorch"
    ]
   },
   "outputs": [],
   "source": [
    "loss = nn.MSELoss()"
   ]
  },
  {
   "cell_type": "markdown",
   "id": "cd0715c3",
   "metadata": {
    "slideshow": {
     "slide_type": "-"
    }
   },
   "source": [
    "实例化一个`SGD`实例"
   ]
  },
  {
   "cell_type": "code",
   "execution_count": 9,
   "id": "36b8669c",
   "metadata": {
    "execution": {
     "iopub.execute_input": "2022-07-31T02:22:41.146539Z",
     "iopub.status.busy": "2022-07-31T02:22:41.145974Z",
     "iopub.status.idle": "2022-07-31T02:22:41.149489Z",
     "shell.execute_reply": "2022-07-31T02:22:41.148897Z"
    },
    "origin_pos": 41,
    "tab": [
     "pytorch"
    ]
   },
   "outputs": [],
   "source": [
    "trainer = torch.optim.SGD(net.parameters(), lr=0.03)"
   ]
  },
  {
   "cell_type": "markdown",
   "id": "7e886bd0",
   "metadata": {
    "slideshow": {
     "slide_type": "slide"
    }
   },
   "source": [
    "训练过程代码与我们从零开始实现时所做的非常相似"
   ]
  },
  {
   "cell_type": "code",
   "execution_count": 10,
   "id": "5427be5d",
   "metadata": {
    "execution": {
     "iopub.execute_input": "2022-07-31T02:22:41.152472Z",
     "iopub.status.busy": "2022-07-31T02:22:41.151984Z",
     "iopub.status.idle": "2022-07-31T02:22:41.303819Z",
     "shell.execute_reply": "2022-07-31T02:22:41.303070Z"
    },
    "origin_pos": 45,
    "tab": [
     "pytorch"
    ]
   },
   "outputs": [
    {
     "name": "stdout",
     "output_type": "stream",
     "text": [
      "epoch 1, loss 0.000157\n",
      "epoch 2, loss 0.000094\n",
      "epoch 3, loss 0.000094\n"
     ]
    }
   ],
   "source": [
    "num_epochs = 3\n",
    "for epoch in range(num_epochs):\n",
    "    for X, y in data_iter:\n",
    "        l = loss(net(X) ,y)\n",
    "        trainer.zero_grad()\n",
    "        l.backward()\n",
    "        trainer.step()\n",
    "    l = loss(net(features), labels)\n",
    "    print(f'epoch {epoch + 1}, loss {l:f}')"
   ]
  },
  {
   "cell_type": "markdown",
   "id": "c1fdb8ef",
   "metadata": {
    "slideshow": {
     "slide_type": "slide"
    }
   },
   "source": [
    "比较生成数据集的真实参数和通过有限数据训练获得的模型参数"
   ]
  },
  {
   "cell_type": "code",
   "execution_count": 11,
   "id": "8e86287a",
   "metadata": {
    "execution": {
     "iopub.execute_input": "2022-07-31T02:22:41.307429Z",
     "iopub.status.busy": "2022-07-31T02:22:41.306897Z",
     "iopub.status.idle": "2022-07-31T02:22:41.312606Z",
     "shell.execute_reply": "2022-07-31T02:22:41.311914Z"
    },
    "origin_pos": 49,
    "tab": [
     "pytorch"
    ]
   },
   "outputs": [
    {
     "name": "stdout",
     "output_type": "stream",
     "text": [
      "w的估计误差： tensor([-0.0008,  0.0006])\n",
      "b的估计误差： tensor([0.0013])\n"
     ]
    }
   ],
   "source": [
    "w = net[0].weight.data\n",
    "print('w的估计误差：', true_w - w.reshape(true_w.shape))\n",
    "b = net[0].bias.data\n",
    "print('b的估计误差：', true_b - b)"
   ]
  }
 ],
 "metadata": {
  "celltoolbar": "Slideshow",
  "language_info": {
   "name": "python"
  },
  "rise": {
   "autolaunch": true,
   "enable_chalkboard": true,
   "overlay": "<div class='my-top-right'><img height=80px src='http://d2l.ai/_static/logo-with-text.png'/></div><div class='my-top-left'></div>",
   "scroll": true
  }
 },
 "nbformat": 4,
 "nbformat_minor": 5
}