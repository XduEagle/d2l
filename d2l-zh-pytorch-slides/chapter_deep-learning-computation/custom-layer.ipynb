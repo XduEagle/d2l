{
 "cells": [
  {
   "cell_type": "markdown",
   "id": "f2f0cc7d",
   "metadata": {
    "slideshow": {
     "slide_type": "-"
    }
   },
   "source": [
    "# 自定义层\n",
    "\n",
    "构造一个没有任何参数的自定义层"
   ]
  },
  {
   "cell_type": "code",
   "execution_count": 2,
   "id": "fba9cb49",
   "metadata": {
    "execution": {
     "iopub.execute_input": "2022-07-31T02:17:49.290569Z",
     "iopub.status.busy": "2022-07-31T02:17:49.289905Z",
     "iopub.status.idle": "2022-07-31T02:17:49.309521Z",
     "shell.execute_reply": "2022-07-31T02:17:49.308533Z"
    },
    "origin_pos": 6,
    "tab": [
     "pytorch"
    ]
   },
   "outputs": [
    {
     "data": {
      "text/plain": [
       "tensor([-2., -1.,  0.,  1.,  2.])"
      ]
     },
     "execution_count": 2,
     "metadata": {},
     "output_type": "execute_result"
    }
   ],
   "source": [
    "import torch\n",
    "import torch.nn.functional as F\n",
    "from torch import nn\n",
    "\n",
    "\n",
    "class CenteredLayer(nn.Module):\n",
    "    def __init__(self):\n",
    "        super().__init__()\n",
    "\n",
    "    def forward(self, X):\n",
    "        return X - X.mean()\n",
    "\n",
    "layer = CenteredLayer()\n",
    "layer(torch.FloatTensor([1, 2, 3, 4, 5]))"
   ]
  },
  {
   "cell_type": "markdown",
   "id": "4320fca3",
   "metadata": {
    "slideshow": {
     "slide_type": "slide"
    }
   },
   "source": [
    "将层作为组件合并到更复杂的模型中"
   ]
  },
  {
   "cell_type": "code",
   "execution_count": 4,
   "id": "6df8ad4a",
   "metadata": {
    "execution": {
     "iopub.execute_input": "2022-07-31T02:17:49.323305Z",
     "iopub.status.busy": "2022-07-31T02:17:49.322738Z",
     "iopub.status.idle": "2022-07-31T02:17:49.332536Z",
     "shell.execute_reply": "2022-07-31T02:17:49.331588Z"
    },
    "origin_pos": 14,
    "tab": [
     "pytorch"
    ]
   },
   "outputs": [
    {
     "data": {
      "text/plain": [
       "tensor(0., grad_fn=<MeanBackward0>)"
      ]
     },
     "execution_count": 4,
     "metadata": {},
     "output_type": "execute_result"
    }
   ],
   "source": [
    "net = nn.Sequential(nn.Linear(8, 128), CenteredLayer())\n",
    "\n",
    "Y = net(torch.rand(4, 8))\n",
    "Y.mean()"
   ]
  },
  {
   "cell_type": "markdown",
   "id": "11cb7fb4",
   "metadata": {
    "slideshow": {
     "slide_type": "slide"
    }
   },
   "source": [
    "带参数的层"
   ]
  },
  {
   "cell_type": "code",
   "execution_count": 6,
   "id": "b74e5205",
   "metadata": {
    "execution": {
     "iopub.execute_input": "2022-07-31T02:17:49.347044Z",
     "iopub.status.busy": "2022-07-31T02:17:49.346545Z",
     "iopub.status.idle": "2022-07-31T02:17:49.354965Z",
     "shell.execute_reply": "2022-07-31T02:17:49.354032Z"
    },
    "origin_pos": 23,
    "tab": [
     "pytorch"
    ]
   },
   "outputs": [
    {
     "data": {
      "text/plain": [
       "Parameter containing:\n",
       "tensor([[-1.4779, -0.6027, -0.2225],\n",
       "        [ 1.1270, -0.6127, -0.2008],\n",
       "        [-2.1864, -1.0548,  0.2558],\n",
       "        [ 0.0225,  0.0553,  0.4876],\n",
       "        [ 0.3558,  1.1427,  1.0245]], requires_grad=True)"
      ]
     },
     "execution_count": 6,
     "metadata": {},
     "output_type": "execute_result"
    }
   ],
   "source": [
    "class MyLinear(nn.Module):\n",
    "    def __init__(self, in_units, units):\n",
    "        super().__init__()\n",
    "        self.weight = nn.Parameter(torch.randn(in_units, units))\n",
    "        self.bias = nn.Parameter(torch.randn(units,))\n",
    "    def forward(self, X):\n",
    "        linear = torch.matmul(X, self.weight.data) + self.bias.data\n",
    "        return F.relu(linear)\n",
    "\n",
    "linear = MyLinear(5, 3)\n",
    "linear.weight"
   ]
  },
  {
   "cell_type": "markdown",
   "id": "b0590600",
   "metadata": {
    "slideshow": {
     "slide_type": "slide"
    }
   },
   "source": [
    "使用自定义层直接执行前向传播计算"
   ]
  },
  {
   "cell_type": "code",
   "execution_count": 7,
   "id": "e3e2d09d",
   "metadata": {
    "execution": {
     "iopub.execute_input": "2022-07-31T02:17:49.358920Z",
     "iopub.status.busy": "2022-07-31T02:17:49.358274Z",
     "iopub.status.idle": "2022-07-31T02:17:49.366967Z",
     "shell.execute_reply": "2022-07-31T02:17:49.366204Z"
    },
    "origin_pos": 27,
    "tab": [
     "pytorch"
    ]
   },
   "outputs": [
    {
     "data": {
      "text/plain": [
       "tensor([[0.0000, 0.0000, 0.2187],\n",
       "        [0.0000, 0.0000, 0.0000]])"
      ]
     },
     "execution_count": 7,
     "metadata": {},
     "output_type": "execute_result"
    }
   ],
   "source": [
    "linear(torch.rand(2, 5))"
   ]
  },
  {
   "cell_type": "markdown",
   "id": "3dcbb107",
   "metadata": {
    "slideshow": {
     "slide_type": "-"
    }
   },
   "source": [
    "使用自定义层构建模型"
   ]
  },
  {
   "cell_type": "code",
   "execution_count": 8,
   "id": "febc961d",
   "metadata": {
    "execution": {
     "iopub.execute_input": "2022-07-31T02:17:49.370583Z",
     "iopub.status.busy": "2022-07-31T02:17:49.369984Z",
     "iopub.status.idle": "2022-07-31T02:17:49.378565Z",
     "shell.execute_reply": "2022-07-31T02:17:49.377692Z"
    },
    "origin_pos": 31,
    "tab": [
     "pytorch"
    ]
   },
   "outputs": [
    {
     "data": {
      "text/plain": [
       "tensor([[ 7.4571],\n",
       "        [12.7505]])"
      ]
     },
     "execution_count": 8,
     "metadata": {},
     "output_type": "execute_result"
    }
   ],
   "source": [
    "net = nn.Sequential(MyLinear(64, 8), MyLinear(8, 1))\n",
    "net(torch.rand(2, 64))"
   ]
  }
 ],
 "metadata": {
  "celltoolbar": "Slideshow",
  "language_info": {
   "name": "python"
  },
  "rise": {
   "autolaunch": true,
   "enable_chalkboard": true,
   "overlay": "<div class='my-top-right'><img height=80px src='http://d2l.ai/_static/logo-with-text.png'/></div><div class='my-top-left'></div>",
   "scroll": true
  }
 },
 "nbformat": 4,
 "nbformat_minor": 5
}