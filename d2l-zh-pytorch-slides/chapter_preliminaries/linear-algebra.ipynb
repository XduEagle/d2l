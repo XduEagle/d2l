{
 "cells": [
  {
   "cell_type": "markdown",
   "id": "a88be7af",
   "metadata": {
    "slideshow": {
     "slide_type": "-"
    }
   },
   "source": [
    "# 线性代数\n",
    "\n",
    "标量由只有一个元素的张量表示"
   ]
  },
  {
   "cell_type": "code",
   "execution_count": 1,
   "id": "16c7367f",
   "metadata": {
    "execution": {
     "iopub.execute_input": "2022-07-31T02:49:24.777213Z",
     "iopub.status.busy": "2022-07-31T02:49:24.776963Z",
     "iopub.status.idle": "2022-07-31T02:49:25.470002Z",
     "shell.execute_reply": "2022-07-31T02:49:25.469361Z"
    },
    "origin_pos": 2,
    "tab": [
     "pytorch"
    ]
   },
   "outputs": [
    {
     "data": {
      "text/plain": [
       "(tensor(5.), tensor(6.), tensor(1.5000), tensor(9.))"
      ]
     },
     "execution_count": 1,
     "metadata": {},
     "output_type": "execute_result"
    }
   ],
   "source": [
    "import torch\n",
    "\n",
    "x = torch.tensor(3.0)\n",
    "y = torch.tensor(2.0)\n",
    "\n",
    "x + y, x * y, x / y, x**y"
   ]
  },
  {
   "cell_type": "markdown",
   "id": "ec19a3d0",
   "metadata": {
    "slideshow": {
     "slide_type": "slide"
    }
   },
   "source": [
    "你可以将向量视为标量值组成的列表"
   ]
  },
  {
   "cell_type": "code",
   "execution_count": 2,
   "id": "5d1111f6",
   "metadata": {
    "execution": {
     "iopub.execute_input": "2022-07-31T02:49:25.473385Z",
     "iopub.status.busy": "2022-07-31T02:49:25.473178Z",
     "iopub.status.idle": "2022-07-31T02:49:25.478396Z",
     "shell.execute_reply": "2022-07-31T02:49:25.477767Z"
    },
    "origin_pos": 6,
    "tab": [
     "pytorch"
    ]
   },
   "outputs": [
    {
     "data": {
      "text/plain": [
       "tensor([0, 1, 2, 3])"
      ]
     },
     "execution_count": 2,
     "metadata": {},
     "output_type": "execute_result"
    }
   ],
   "source": [
    "x = torch.arange(4)\n",
    "x"
   ]
  },
  {
   "cell_type": "markdown",
   "id": "72668996",
   "metadata": {
    "slideshow": {
     "slide_type": "-"
    }
   },
   "source": [
    "通过张量的索引来访问任一元素"
   ]
  },
  {
   "cell_type": "code",
   "execution_count": 3,
   "id": "866866ec",
   "metadata": {
    "execution": {
     "iopub.execute_input": "2022-07-31T02:49:25.481240Z",
     "iopub.status.busy": "2022-07-31T02:49:25.481039Z",
     "iopub.status.idle": "2022-07-31T02:49:25.486169Z",
     "shell.execute_reply": "2022-07-31T02:49:25.485569Z"
    },
    "origin_pos": 10,
    "tab": [
     "pytorch"
    ]
   },
   "outputs": [
    {
     "data": {
      "text/plain": [
       "tensor(3)"
      ]
     },
     "execution_count": 3,
     "metadata": {},
     "output_type": "execute_result"
    }
   ],
   "source": [
    "x[3]"
   ]
  },
  {
   "cell_type": "markdown",
   "id": "751031de",
   "metadata": {
    "slideshow": {
     "slide_type": "slide"
    }
   },
   "source": [
    "访问张量的长度"
   ]
  },
  {
   "cell_type": "code",
   "execution_count": 4,
   "id": "5eedf6e7",
   "metadata": {
    "execution": {
     "iopub.execute_input": "2022-07-31T02:49:25.488926Z",
     "iopub.status.busy": "2022-07-31T02:49:25.488725Z",
     "iopub.status.idle": "2022-07-31T02:49:25.493225Z",
     "shell.execute_reply": "2022-07-31T02:49:25.492640Z"
    },
    "origin_pos": 14,
    "tab": [
     "pytorch"
    ]
   },
   "outputs": [
    {
     "data": {
      "text/plain": [
       "4"
      ]
     },
     "execution_count": 4,
     "metadata": {},
     "output_type": "execute_result"
    }
   ],
   "source": [
    "len(x)"
   ]
  },
  {
   "cell_type": "markdown",
   "id": "5efc8f38",
   "metadata": {
    "slideshow": {
     "slide_type": "-"
    }
   },
   "source": [
    "只有一个轴的张量，形状只有一个元素"
   ]
  },
  {
   "cell_type": "code",
   "execution_count": 5,
   "id": "c8a6a81e",
   "metadata": {
    "execution": {
     "iopub.execute_input": "2022-07-31T02:49:25.496049Z",
     "iopub.status.busy": "2022-07-31T02:49:25.495847Z",
     "iopub.status.idle": "2022-07-31T02:49:25.500197Z",
     "shell.execute_reply": "2022-07-31T02:49:25.499609Z"
    },
    "origin_pos": 18,
    "tab": [
     "pytorch"
    ]
   },
   "outputs": [
    {
     "data": {
      "text/plain": [
       "torch.Size([4])"
      ]
     },
     "execution_count": 5,
     "metadata": {},
     "output_type": "execute_result"
    }
   ],
   "source": [
    "x.shape"
   ]
  },
  {
   "cell_type": "markdown",
   "id": "b1dbb85a",
   "metadata": {
    "slideshow": {
     "slide_type": "slide"
    }
   },
   "source": [
    "通过指定两个分量$m$和$n$来创建一个形状为$m \\times n$的矩阵"
   ]
  },
  {
   "cell_type": "code",
   "execution_count": 6,
   "id": "ee2eeee4",
   "metadata": {
    "execution": {
     "iopub.execute_input": "2022-07-31T02:49:25.503025Z",
     "iopub.status.busy": "2022-07-31T02:49:25.502706Z",
     "iopub.status.idle": "2022-07-31T02:49:25.507724Z",
     "shell.execute_reply": "2022-07-31T02:49:25.507121Z"
    },
    "origin_pos": 22,
    "tab": [
     "pytorch"
    ]
   },
   "outputs": [
    {
     "data": {
      "text/plain": [
       "tensor([[ 0,  1,  2,  3],\n",
       "        [ 4,  5,  6,  7],\n",
       "        [ 8,  9, 10, 11],\n",
       "        [12, 13, 14, 15],\n",
       "        [16, 17, 18, 19]])"
      ]
     },
     "execution_count": 6,
     "metadata": {},
     "output_type": "execute_result"
    }
   ],
   "source": [
    "A = torch.arange(20).reshape(5, 4)\n",
    "A"
   ]
  },
  {
   "cell_type": "markdown",
   "id": "acf811f0",
   "metadata": {
    "slideshow": {
     "slide_type": "-"
    }
   },
   "source": [
    "矩阵的转置"
   ]
  },
  {
   "cell_type": "code",
   "execution_count": 7,
   "id": "a8233d91",
   "metadata": {
    "execution": {
     "iopub.execute_input": "2022-07-31T02:49:25.511328Z",
     "iopub.status.busy": "2022-07-31T02:49:25.510560Z",
     "iopub.status.idle": "2022-07-31T02:49:25.517098Z",
     "shell.execute_reply": "2022-07-31T02:49:25.516299Z"
    },
    "origin_pos": 26,
    "tab": [
     "pytorch"
    ]
   },
   "outputs": [
    {
     "data": {
      "text/plain": [
       "tensor([[ 0,  4,  8, 12, 16],\n",
       "        [ 1,  5,  9, 13, 17],\n",
       "        [ 2,  6, 10, 14, 18],\n",
       "        [ 3,  7, 11, 15, 19]])"
      ]
     },
     "execution_count": 7,
     "metadata": {},
     "output_type": "execute_result"
    }
   ],
   "source": [
    "A.T"
   ]
  },
  {
   "cell_type": "markdown",
   "id": "4d3dc385",
   "metadata": {
    "slideshow": {
     "slide_type": "slide"
    }
   },
   "source": [
    "*对称矩阵*（symmetric matrix）$\\mathbf{A}$等于其转置：$\\mathbf{A} = \\mathbf{A}^\\top$"
   ]
  },
  {
   "cell_type": "code",
   "execution_count": 8,
   "id": "0cf6084f",
   "metadata": {
    "execution": {
     "iopub.execute_input": "2022-07-31T02:49:25.521175Z",
     "iopub.status.busy": "2022-07-31T02:49:25.520512Z",
     "iopub.status.idle": "2022-07-31T02:49:25.527941Z",
     "shell.execute_reply": "2022-07-31T02:49:25.527038Z"
    },
    "origin_pos": 30,
    "tab": [
     "pytorch"
    ]
   },
   "outputs": [
    {
     "data": {
      "text/plain": [
       "tensor([[1, 2, 3],\n",
       "        [2, 0, 4],\n",
       "        [3, 4, 5]])"
      ]
     },
     "execution_count": 8,
     "metadata": {},
     "output_type": "execute_result"
    }
   ],
   "source": [
    "B = torch.tensor([[1, 2, 3], [2, 0, 4], [3, 4, 5]])\n",
    "B"
   ]
  },
  {
   "cell_type": "code",
   "execution_count": 9,
   "id": "821553ca",
   "metadata": {
    "execution": {
     "iopub.execute_input": "2022-07-31T02:49:25.531482Z",
     "iopub.status.busy": "2022-07-31T02:49:25.530835Z",
     "iopub.status.idle": "2022-07-31T02:49:25.537377Z",
     "shell.execute_reply": "2022-07-31T02:49:25.536523Z"
    },
    "origin_pos": 34,
    "tab": [
     "pytorch"
    ]
   },
   "outputs": [
    {
     "data": {
      "text/plain": [
       "tensor([[True, True, True],\n",
       "        [True, True, True],\n",
       "        [True, True, True]])"
      ]
     },
     "execution_count": 9,
     "metadata": {},
     "output_type": "execute_result"
    }
   ],
   "source": [
    "B == B.T"
   ]
  },
  {
   "cell_type": "markdown",
   "id": "76ed36f9",
   "metadata": {
    "slideshow": {
     "slide_type": "slide"
    }
   },
   "source": [
    "就像向量是标量的推广，矩阵是向量的推广一样，我们可以构建具有更多轴的数据结构"
   ]
  },
  {
   "cell_type": "code",
   "execution_count": 10,
   "id": "169d01b2",
   "metadata": {
    "execution": {
     "iopub.execute_input": "2022-07-31T02:49:25.541361Z",
     "iopub.status.busy": "2022-07-31T02:49:25.540795Z",
     "iopub.status.idle": "2022-07-31T02:49:25.547941Z",
     "shell.execute_reply": "2022-07-31T02:49:25.547140Z"
    },
    "origin_pos": 38,
    "tab": [
     "pytorch"
    ]
   },
   "outputs": [
    {
     "data": {
      "text/plain": [
       "tensor([[[ 0,  1,  2,  3],\n",
       "         [ 4,  5,  6,  7],\n",
       "         [ 8,  9, 10, 11]],\n",
       "\n",
       "        [[12, 13, 14, 15],\n",
       "         [16, 17, 18, 19],\n",
       "         [20, 21, 22, 23]]])"
      ]
     },
     "execution_count": 10,
     "metadata": {},
     "output_type": "execute_result"
    }
   ],
   "source": [
    "X = torch.arange(24).reshape(2, 3, 4)\n",
    "X"
   ]
  },
  {
   "cell_type": "markdown",
   "id": "772bb96e",
   "metadata": {
    "slideshow": {
     "slide_type": "slide"
    }
   },
   "source": [
    "给定具有相同形状的任意两个张量，任何按元素二元运算的结果都将是相同形状的张量"
   ]
  },
  {
   "cell_type": "code",
   "execution_count": 11,
   "id": "e2fd5df8",
   "metadata": {
    "execution": {
     "iopub.execute_input": "2022-07-31T02:49:25.551992Z",
     "iopub.status.busy": "2022-07-31T02:49:25.551379Z",
     "iopub.status.idle": "2022-07-31T02:49:25.560709Z",
     "shell.execute_reply": "2022-07-31T02:49:25.559920Z"
    },
    "origin_pos": 42,
    "tab": [
     "pytorch"
    ]
   },
   "outputs": [
    {
     "data": {
      "text/plain": [
       "(tensor([[ 0.,  1.,  2.,  3.],\n",
       "         [ 4.,  5.,  6.,  7.],\n",
       "         [ 8.,  9., 10., 11.],\n",
       "         [12., 13., 14., 15.],\n",
       "         [16., 17., 18., 19.]]),\n",
       " tensor([[ 0.,  2.,  4.,  6.],\n",
       "         [ 8., 10., 12., 14.],\n",
       "         [16., 18., 20., 22.],\n",
       "         [24., 26., 28., 30.],\n",
       "         [32., 34., 36., 38.]]))"
      ]
     },
     "execution_count": 11,
     "metadata": {},
     "output_type": "execute_result"
    }
   ],
   "source": [
    "A = torch.arange(20, dtype=torch.float32).reshape(5, 4)\n",
    "B = A.clone()\n",
    "A, A + B"
   ]
  },
  {
   "cell_type": "markdown",
   "id": "893cd98c",
   "metadata": {
    "slideshow": {
     "slide_type": "slide"
    }
   },
   "source": [
    "两个矩阵的按元素乘法称为*Hadamard积*（Hadamard product）（数学符号$\\odot$）"
   ]
  },
  {
   "cell_type": "code",
   "execution_count": 12,
   "id": "f399c8f7",
   "metadata": {
    "execution": {
     "iopub.execute_input": "2022-07-31T02:49:25.564286Z",
     "iopub.status.busy": "2022-07-31T02:49:25.563751Z",
     "iopub.status.idle": "2022-07-31T02:49:25.568979Z",
     "shell.execute_reply": "2022-07-31T02:49:25.568278Z"
    },
    "origin_pos": 46,
    "tab": [
     "pytorch"
    ]
   },
   "outputs": [
    {
     "data": {
      "text/plain": [
       "tensor([[  0.,   1.,   4.,   9.],\n",
       "        [ 16.,  25.,  36.,  49.],\n",
       "        [ 64.,  81., 100., 121.],\n",
       "        [144., 169., 196., 225.],\n",
       "        [256., 289., 324., 361.]])"
      ]
     },
     "execution_count": 12,
     "metadata": {},
     "output_type": "execute_result"
    }
   ],
   "source": [
    "A * B"
   ]
  },
  {
   "cell_type": "code",
   "execution_count": 13,
   "id": "b02cec19",
   "metadata": {
    "execution": {
     "iopub.execute_input": "2022-07-31T02:49:25.572916Z",
     "iopub.status.busy": "2022-07-31T02:49:25.572220Z",
     "iopub.status.idle": "2022-07-31T02:49:25.579768Z",
     "shell.execute_reply": "2022-07-31T02:49:25.578881Z"
    },
    "origin_pos": 50,
    "tab": [
     "pytorch"
    ]
   },
   "outputs": [
    {
     "data": {
      "text/plain": [
       "(tensor([[[ 2,  3,  4,  5],\n",
       "          [ 6,  7,  8,  9],\n",
       "          [10, 11, 12, 13]],\n",
       " \n",
       "         [[14, 15, 16, 17],\n",
       "          [18, 19, 20, 21],\n",
       "          [22, 23, 24, 25]]]),\n",
       " torch.Size([2, 3, 4]))"
      ]
     },
     "execution_count": 13,
     "metadata": {},
     "output_type": "execute_result"
    }
   ],
   "source": [
    "a = 2\n",
    "X = torch.arange(24).reshape(2, 3, 4)\n",
    "a + X, (a * X).shape"
   ]
  },
  {
   "cell_type": "markdown",
   "id": "45c45e4f",
   "metadata": {
    "slideshow": {
     "slide_type": "slide"
    }
   },
   "source": [
    "计算其元素的和"
   ]
  },
  {
   "cell_type": "code",
   "execution_count": 14,
   "id": "638088a6",
   "metadata": {
    "execution": {
     "iopub.execute_input": "2022-07-31T02:49:25.584063Z",
     "iopub.status.busy": "2022-07-31T02:49:25.583278Z",
     "iopub.status.idle": "2022-07-31T02:49:25.590872Z",
     "shell.execute_reply": "2022-07-31T02:49:25.590071Z"
    },
    "origin_pos": 54,
    "tab": [
     "pytorch"
    ]
   },
   "outputs": [
    {
     "data": {
      "text/plain": [
       "(tensor([0., 1., 2., 3.]), tensor(6.))"
      ]
     },
     "execution_count": 14,
     "metadata": {},
     "output_type": "execute_result"
    }
   ],
   "source": [
    "x = torch.arange(4, dtype=torch.float32)\n",
    "x, x.sum()"
   ]
  },
  {
   "cell_type": "markdown",
   "id": "7066c7fa",
   "metadata": {
    "slideshow": {
     "slide_type": "-"
    }
   },
   "source": [
    "表示任意形状张量的元素和"
   ]
  },
  {
   "cell_type": "code",
   "execution_count": 15,
   "id": "6defc2f9",
   "metadata": {
    "execution": {
     "iopub.execute_input": "2022-07-31T02:49:25.594497Z",
     "iopub.status.busy": "2022-07-31T02:49:25.593825Z",
     "iopub.status.idle": "2022-07-31T02:49:25.600592Z",
     "shell.execute_reply": "2022-07-31T02:49:25.599705Z"
    },
    "origin_pos": 58,
    "tab": [
     "pytorch"
    ]
   },
   "outputs": [
    {
     "data": {
      "text/plain": [
       "(torch.Size([5, 4]), tensor(190.))"
      ]
     },
     "execution_count": 15,
     "metadata": {},
     "output_type": "execute_result"
    }
   ],
   "source": [
    "A.shape, A.sum()"
   ]
  },
  {
   "cell_type": "markdown",
   "id": "6d39a6be",
   "metadata": {
    "slideshow": {
     "slide_type": "slide"
    }
   },
   "source": [
    "指定张量沿哪一个轴来通过求和降低维度"
   ]
  },
  {
   "cell_type": "code",
   "execution_count": 16,
   "id": "e7fc6828",
   "metadata": {
    "execution": {
     "iopub.execute_input": "2022-07-31T02:49:25.604592Z",
     "iopub.status.busy": "2022-07-31T02:49:25.603910Z",
     "iopub.status.idle": "2022-07-31T02:49:25.611111Z",
     "shell.execute_reply": "2022-07-31T02:49:25.610252Z"
    },
    "origin_pos": 62,
    "tab": [
     "pytorch"
    ]
   },
   "outputs": [
    {
     "data": {
      "text/plain": [
       "(tensor([40., 45., 50., 55.]), torch.Size([4]))"
      ]
     },
     "execution_count": 16,
     "metadata": {},
     "output_type": "execute_result"
    }
   ],
   "source": [
    "A_sum_axis0 = A.sum(axis=0)\n",
    "A_sum_axis0, A_sum_axis0.shape"
   ]
  },
  {
   "cell_type": "code",
   "execution_count": 17,
   "id": "95eeefed",
   "metadata": {
    "execution": {
     "iopub.execute_input": "2022-07-31T02:49:25.614669Z",
     "iopub.status.busy": "2022-07-31T02:49:25.614007Z",
     "iopub.status.idle": "2022-07-31T02:49:25.620151Z",
     "shell.execute_reply": "2022-07-31T02:49:25.619453Z"
    },
    "origin_pos": 66,
    "tab": [
     "pytorch"
    ]
   },
   "outputs": [
    {
     "data": {
      "text/plain": [
       "(tensor([ 6., 22., 38., 54., 70.]), torch.Size([5]))"
      ]
     },
     "execution_count": 17,
     "metadata": {},
     "output_type": "execute_result"
    }
   ],
   "source": [
    "A_sum_axis1 = A.sum(axis=1)\n",
    "A_sum_axis1, A_sum_axis1.shape"
   ]
  },
  {
   "cell_type": "code",
   "execution_count": 18,
   "id": "a898e0b9",
   "metadata": {
    "execution": {
     "iopub.execute_input": "2022-07-31T02:49:25.623974Z",
     "iopub.status.busy": "2022-07-31T02:49:25.623410Z",
     "iopub.status.idle": "2022-07-31T02:49:25.629292Z",
     "shell.execute_reply": "2022-07-31T02:49:25.628640Z"
    },
    "origin_pos": 70,
    "tab": [
     "pytorch"
    ]
   },
   "outputs": [
    {
     "data": {
      "text/plain": [
       "tensor(190.)"
      ]
     },
     "execution_count": 18,
     "metadata": {},
     "output_type": "execute_result"
    }
   ],
   "source": [
    "A.sum(axis=[0, 1])"
   ]
  },
  {
   "cell_type": "markdown",
   "id": "166617fd",
   "metadata": {
    "slideshow": {
     "slide_type": "slide"
    }
   },
   "source": [
    "一个与求和相关的量是*平均值*（mean或average）"
   ]
  },
  {
   "cell_type": "code",
   "execution_count": 19,
   "id": "f09e21c3",
   "metadata": {
    "execution": {
     "iopub.execute_input": "2022-07-31T02:49:25.632603Z",
     "iopub.status.busy": "2022-07-31T02:49:25.632241Z",
     "iopub.status.idle": "2022-07-31T02:49:25.638012Z",
     "shell.execute_reply": "2022-07-31T02:49:25.637385Z"
    },
    "origin_pos": 74,
    "tab": [
     "pytorch"
    ]
   },
   "outputs": [
    {
     "data": {
      "text/plain": [
       "(tensor(9.5000), tensor(9.5000))"
      ]
     },
     "execution_count": 19,
     "metadata": {},
     "output_type": "execute_result"
    }
   ],
   "source": [
    "A.mean(), A.sum() / A.numel()"
   ]
  },
  {
   "cell_type": "code",
   "execution_count": 20,
   "id": "0212e96d",
   "metadata": {
    "execution": {
     "iopub.execute_input": "2022-07-31T02:49:25.640796Z",
     "iopub.status.busy": "2022-07-31T02:49:25.640448Z",
     "iopub.status.idle": "2022-07-31T02:49:25.646369Z",
     "shell.execute_reply": "2022-07-31T02:49:25.645717Z"
    },
    "origin_pos": 78,
    "tab": [
     "pytorch"
    ]
   },
   "outputs": [
    {
     "data": {
      "text/plain": [
       "(tensor([ 8.,  9., 10., 11.]), tensor([ 8.,  9., 10., 11.]))"
      ]
     },
     "execution_count": 20,
     "metadata": {},
     "output_type": "execute_result"
    }
   ],
   "source": [
    "A.mean(axis=0), A.sum(axis=0) / A.shape[0]"
   ]
  },
  {
   "cell_type": "markdown",
   "id": "b9774bfd",
   "metadata": {
    "slideshow": {
     "slide_type": "slide"
    }
   },
   "source": [
    "计算总和或均值时保持轴数不变"
   ]
  },
  {
   "cell_type": "code",
   "execution_count": 21,
   "id": "c35299aa",
   "metadata": {
    "execution": {
     "iopub.execute_input": "2022-07-31T02:49:25.649666Z",
     "iopub.status.busy": "2022-07-31T02:49:25.649466Z",
     "iopub.status.idle": "2022-07-31T02:49:25.655157Z",
     "shell.execute_reply": "2022-07-31T02:49:25.654470Z"
    },
    "origin_pos": 82,
    "tab": [
     "pytorch"
    ]
   },
   "outputs": [
    {
     "data": {
      "text/plain": [
       "tensor([[ 6.],\n",
       "        [22.],\n",
       "        [38.],\n",
       "        [54.],\n",
       "        [70.]])"
      ]
     },
     "execution_count": 21,
     "metadata": {},
     "output_type": "execute_result"
    }
   ],
   "source": [
    "sum_A = A.sum(axis=1, keepdims=True)\n",
    "sum_A"
   ]
  },
  {
   "cell_type": "markdown",
   "id": "6f55c7ff",
   "metadata": {
    "slideshow": {
     "slide_type": "-"
    }
   },
   "source": [
    "通过广播将`A`除以`sum_A`"
   ]
  },
  {
   "cell_type": "code",
   "execution_count": 22,
   "id": "7b5fe10f",
   "metadata": {
    "execution": {
     "iopub.execute_input": "2022-07-31T02:49:25.658240Z",
     "iopub.status.busy": "2022-07-31T02:49:25.657743Z",
     "iopub.status.idle": "2022-07-31T02:49:25.663240Z",
     "shell.execute_reply": "2022-07-31T02:49:25.662591Z"
    },
    "origin_pos": 86,
    "tab": [
     "pytorch"
    ]
   },
   "outputs": [
    {
     "data": {
      "text/plain": [
       "tensor([[0.0000, 0.1667, 0.3333, 0.5000],\n",
       "        [0.1818, 0.2273, 0.2727, 0.3182],\n",
       "        [0.2105, 0.2368, 0.2632, 0.2895],\n",
       "        [0.2222, 0.2407, 0.2593, 0.2778],\n",
       "        [0.2286, 0.2429, 0.2571, 0.2714]])"
      ]
     },
     "execution_count": 22,
     "metadata": {},
     "output_type": "execute_result"
    }
   ],
   "source": [
    "A / sum_A"
   ]
  },
  {
   "cell_type": "markdown",
   "id": "d846eb5c",
   "metadata": {
    "slideshow": {
     "slide_type": "slide"
    }
   },
   "source": [
    "某个轴计算`A`元素的累积总和"
   ]
  },
  {
   "cell_type": "code",
   "execution_count": 23,
   "id": "06cc445d",
   "metadata": {
    "execution": {
     "iopub.execute_input": "2022-07-31T02:49:25.666763Z",
     "iopub.status.busy": "2022-07-31T02:49:25.666257Z",
     "iopub.status.idle": "2022-07-31T02:49:25.672211Z",
     "shell.execute_reply": "2022-07-31T02:49:25.671493Z"
    },
    "origin_pos": 90,
    "tab": [
     "pytorch"
    ]
   },
   "outputs": [
    {
     "data": {
      "text/plain": [
       "tensor([[ 0.,  1.,  2.,  3.],\n",
       "        [ 4.,  6.,  8., 10.],\n",
       "        [12., 15., 18., 21.],\n",
       "        [24., 28., 32., 36.],\n",
       "        [40., 45., 50., 55.]])"
      ]
     },
     "execution_count": 23,
     "metadata": {},
     "output_type": "execute_result"
    }
   ],
   "source": [
    "A.cumsum(axis=0)"
   ]
  },
  {
   "cell_type": "markdown",
   "id": "78351292",
   "metadata": {
    "slideshow": {
     "slide_type": "slide"
    }
   },
   "source": [
    "点积是相同位置的按元素乘积的和"
   ]
  },
  {
   "cell_type": "code",
   "execution_count": 24,
   "id": "9bc65041",
   "metadata": {
    "execution": {
     "iopub.execute_input": "2022-07-31T02:49:25.675225Z",
     "iopub.status.busy": "2022-07-31T02:49:25.674701Z",
     "iopub.status.idle": "2022-07-31T02:49:25.681409Z",
     "shell.execute_reply": "2022-07-31T02:49:25.680678Z"
    },
    "origin_pos": 94,
    "tab": [
     "pytorch"
    ]
   },
   "outputs": [
    {
     "data": {
      "text/plain": [
       "(tensor([0., 1., 2., 3.]), tensor([1., 1., 1., 1.]), tensor(6.))"
      ]
     },
     "execution_count": 24,
     "metadata": {},
     "output_type": "execute_result"
    }
   ],
   "source": [
    "y = torch.ones(4, dtype = torch.float32)\n",
    "x, y, torch.dot(x, y)"
   ]
  },
  {
   "cell_type": "markdown",
   "id": "83c5089b",
   "metadata": {
    "slideshow": {
     "slide_type": "-"
    }
   },
   "source": [
    "我们可以通过执行按元素乘法，然后进行求和来表示两个向量的点积"
   ]
  },
  {
   "cell_type": "code",
   "execution_count": 25,
   "id": "b85defe2",
   "metadata": {
    "execution": {
     "iopub.execute_input": "2022-07-31T02:49:25.685162Z",
     "iopub.status.busy": "2022-07-31T02:49:25.684503Z",
     "iopub.status.idle": "2022-07-31T02:49:25.690185Z",
     "shell.execute_reply": "2022-07-31T02:49:25.689361Z"
    },
    "origin_pos": 98,
    "tab": [
     "pytorch"
    ]
   },
   "outputs": [
    {
     "data": {
      "text/plain": [
       "tensor(6.)"
      ]
     },
     "execution_count": 25,
     "metadata": {},
     "output_type": "execute_result"
    }
   ],
   "source": [
    "torch.sum(x * y)"
   ]
  },
  {
   "cell_type": "markdown",
   "id": "ed59990a",
   "metadata": {
    "slideshow": {
     "slide_type": "slide"
    }
   },
   "source": [
    "矩阵向量积$\\mathbf{A}\\mathbf{x}$是一个长度为$m$的列向量，\n",
    "其第$i$个元素是点积$\\mathbf{a}^\\top_i \\mathbf{x}$"
   ]
  },
  {
   "cell_type": "code",
   "execution_count": 26,
   "id": "d498f599",
   "metadata": {
    "execution": {
     "iopub.execute_input": "2022-07-31T02:49:25.693867Z",
     "iopub.status.busy": "2022-07-31T02:49:25.693189Z",
     "iopub.status.idle": "2022-07-31T02:49:25.698677Z",
     "shell.execute_reply": "2022-07-31T02:49:25.697979Z"
    },
    "origin_pos": 105,
    "tab": [
     "pytorch"
    ]
   },
   "outputs": [
    {
     "data": {
      "text/plain": [
       "(torch.Size([5, 4]), torch.Size([4]), tensor([ 14.,  38.,  62.,  86., 110.]))"
      ]
     },
     "execution_count": 26,
     "metadata": {},
     "output_type": "execute_result"
    }
   ],
   "source": [
    "A.shape, x.shape, torch.mv(A, x)"
   ]
  },
  {
   "cell_type": "markdown",
   "id": "88c9e6ed",
   "metadata": {
    "slideshow": {
     "slide_type": "slide"
    }
   },
   "source": [
    "我们可以将矩阵-矩阵乘法$\\mathbf{AB}$看作是简单地执行$m$次矩阵-向量积，并将结果拼接在一起，形成一个$n \\times m$矩阵"
   ]
  },
  {
   "cell_type": "code",
   "execution_count": 27,
   "id": "de51b827",
   "metadata": {
    "execution": {
     "iopub.execute_input": "2022-07-31T02:49:25.702116Z",
     "iopub.status.busy": "2022-07-31T02:49:25.701512Z",
     "iopub.status.idle": "2022-07-31T02:49:25.707439Z",
     "shell.execute_reply": "2022-07-31T02:49:25.706770Z"
    },
    "origin_pos": 109,
    "tab": [
     "pytorch"
    ]
   },
   "outputs": [
    {
     "data": {
      "text/plain": [
       "tensor([[ 6.,  6.,  6.],\n",
       "        [22., 22., 22.],\n",
       "        [38., 38., 38.],\n",
       "        [54., 54., 54.],\n",
       "        [70., 70., 70.]])"
      ]
     },
     "execution_count": 27,
     "metadata": {},
     "output_type": "execute_result"
    }
   ],
   "source": [
    "B = torch.ones(4, 3)\n",
    "torch.mm(A, B)"
   ]
  },
  {
   "cell_type": "markdown",
   "id": "33e2f2de",
   "metadata": {
    "slideshow": {
     "slide_type": "slide"
    }
   },
   "source": [
    "$L_2$*范数*是向量元素平方和的平方根：\n",
    "$$\\|\\mathbf{x}\\|_2 = \\sqrt{\\sum_{i=1}^n x_i^2}$$"
   ]
  },
  {
   "cell_type": "code",
   "execution_count": 28,
   "id": "7bc7fa99",
   "metadata": {
    "execution": {
     "iopub.execute_input": "2022-07-31T02:49:25.710886Z",
     "iopub.status.busy": "2022-07-31T02:49:25.710388Z",
     "iopub.status.idle": "2022-07-31T02:49:25.715538Z",
     "shell.execute_reply": "2022-07-31T02:49:25.714892Z"
    },
    "origin_pos": 113,
    "tab": [
     "pytorch"
    ]
   },
   "outputs": [
    {
     "data": {
      "text/plain": [
       "tensor(5.)"
      ]
     },
     "execution_count": 28,
     "metadata": {},
     "output_type": "execute_result"
    }
   ],
   "source": [
    "u = torch.tensor([3.0, -4.0])\n",
    "torch.norm(u)"
   ]
  },
  {
   "cell_type": "markdown",
   "id": "cc6475c3",
   "metadata": {
    "slideshow": {
     "slide_type": "slide"
    }
   },
   "source": [
    "$L_1$范数，它表示为向量元素的绝对值之和：\n",
    "$$\\|\\mathbf{x}\\|_1 = \\sum_{i=1}^n \\left|x_i \\right|$$"
   ]
  },
  {
   "cell_type": "code",
   "execution_count": 29,
   "id": "c63ec19d",
   "metadata": {
    "execution": {
     "iopub.execute_input": "2022-07-31T02:49:25.718921Z",
     "iopub.status.busy": "2022-07-31T02:49:25.718450Z",
     "iopub.status.idle": "2022-07-31T02:49:25.723592Z",
     "shell.execute_reply": "2022-07-31T02:49:25.722954Z"
    },
    "origin_pos": 117,
    "tab": [
     "pytorch"
    ]
   },
   "outputs": [
    {
     "data": {
      "text/plain": [
       "tensor(7.)"
      ]
     },
     "execution_count": 29,
     "metadata": {},
     "output_type": "execute_result"
    }
   ],
   "source": [
    "torch.abs(u).sum()"
   ]
  },
  {
   "cell_type": "markdown",
   "id": "7971f34f",
   "metadata": {
    "slideshow": {
     "slide_type": "slide"
    }
   },
   "source": [
    "矩阵\n",
    "的*Frobenius范数*（Frobenius norm）是矩阵元素平方和的平方根：\n",
    "$$\\|\\mathbf{X}\\|_F = \\sqrt{\\sum_{i=1}^m \\sum_{j=1}^n x_{ij}^2}$$"
   ]
  },
  {
   "cell_type": "code",
   "execution_count": 30,
   "id": "2f5665d0",
   "metadata": {
    "execution": {
     "iopub.execute_input": "2022-07-31T02:49:25.726935Z",
     "iopub.status.busy": "2022-07-31T02:49:25.726429Z",
     "iopub.status.idle": "2022-07-31T02:49:25.731749Z",
     "shell.execute_reply": "2022-07-31T02:49:25.731145Z"
    },
    "origin_pos": 121,
    "tab": [
     "pytorch"
    ]
   },
   "outputs": [
    {
     "data": {
      "text/plain": [
       "tensor(6.)"
      ]
     },
     "execution_count": 30,
     "metadata": {},
     "output_type": "execute_result"
    }
   ],
   "source": [
    "torch.norm(torch.ones((4, 9)))"
   ]
  }
 ],
 "metadata": {
  "celltoolbar": "Slideshow",
  "language_info": {
   "name": "python"
  },
  "rise": {
   "autolaunch": true,
   "enable_chalkboard": true,
   "overlay": "<div class='my-top-right'><img height=80px src='http://d2l.ai/_static/logo-with-text.png'/></div><div class='my-top-left'></div>",
   "scroll": true
  }
 },
 "nbformat": 4,
 "nbformat_minor": 5
}