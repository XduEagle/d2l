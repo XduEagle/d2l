{
 "cells": [
  {
   "cell_type": "markdown",
   "id": "1222612f",
   "metadata": {
    "slideshow": {
     "slide_type": "-"
    }
   },
   "source": [
    "# 数据预处理\n",
    "\n",
    "创建一个人工数据集，并存储在CSV（逗号分隔值）文件"
   ]
  },
  {
   "cell_type": "code",
   "execution_count": 1,
   "id": "3485a3af",
   "metadata": {
    "execution": {
     "iopub.execute_input": "2022-07-31T02:47:43.120836Z",
     "iopub.status.busy": "2022-07-31T02:47:43.120587Z",
     "iopub.status.idle": "2022-07-31T02:47:43.130058Z",
     "shell.execute_reply": "2022-07-31T02:47:43.129398Z"
    },
    "origin_pos": 1,
    "tab": [
     "pytorch"
    ]
   },
   "outputs": [],
   "source": [
    "import os\n",
    "\n",
    "os.makedirs(os.path.join('..', 'data'), exist_ok=True)\n",
    "data_file = os.path.join('..', 'data', 'house_tiny.csv')\n",
    "with open(data_file, 'w') as f:\n",
    "    f.write('NumRooms,Alley,Price\\n')\n",
    "    f.write('NA,Pave,127500\\n')\n",
    "    f.write('2,NA,106000\\n')\n",
    "    f.write('4,NA,178100\\n')\n",
    "    f.write('NA,NA,140000\\n')"
   ]
  },
  {
   "cell_type": "markdown",
   "id": "c4c53b75",
   "metadata": {
    "slideshow": {
     "slide_type": "slide"
    }
   },
   "source": [
    "从创建的CSV文件中加载原始数据集"
   ]
  },
  {
   "cell_type": "code",
   "execution_count": 2,
   "id": "4d067bac",
   "metadata": {
    "execution": {
     "iopub.execute_input": "2022-07-31T02:47:43.133316Z",
     "iopub.status.busy": "2022-07-31T02:47:43.132861Z",
     "iopub.status.idle": "2022-07-31T02:47:43.561131Z",
     "shell.execute_reply": "2022-07-31T02:47:43.560442Z"
    },
    "origin_pos": 3,
    "tab": [
     "pytorch"
    ]
   },
   "outputs": [
    {
     "name": "stdout",
     "output_type": "stream",
     "text": [
      "   NumRooms Alley   Price\n",
      "0       NaN  Pave  127500\n",
      "1       2.0   NaN  106000\n",
      "2       4.0   NaN  178100\n",
      "3       NaN   NaN  140000\n"
     ]
    }
   ],
   "source": [
    "import pandas as pd\n",
    "\n",
    "data = pd.read_csv(data_file)\n",
    "print(data)"
   ]
  },
  {
   "cell_type": "markdown",
   "id": "e226add6",
   "metadata": {
    "slideshow": {
     "slide_type": "slide"
    }
   },
   "source": [
    "为了处理缺失的数据，典型的方法包括*插值法*和*删除法*，\n",
    "这里，我们将考虑插值法"
   ]
  },
  {
   "cell_type": "code",
   "execution_count": 3,
   "id": "9feb87e7",
   "metadata": {
    "execution": {
     "iopub.execute_input": "2022-07-31T02:47:43.564342Z",
     "iopub.status.busy": "2022-07-31T02:47:43.563959Z",
     "iopub.status.idle": "2022-07-31T02:47:43.571872Z",
     "shell.execute_reply": "2022-07-31T02:47:43.571249Z"
    },
    "origin_pos": 5,
    "tab": [
     "pytorch"
    ]
   },
   "outputs": [
    {
     "name": "stdout",
     "output_type": "stream",
     "text": [
      "   NumRooms Alley\n",
      "0       3.0  Pave\n",
      "1       2.0   NaN\n",
      "2       4.0   NaN\n",
      "3       3.0   NaN\n"
     ]
    }
   ],
   "source": [
    "inputs, outputs = data.iloc[:, 0:2], data.iloc[:, 2]\n",
    "inputs = inputs.fillna(inputs.mean())\n",
    "print(inputs)"
   ]
  },
  {
   "cell_type": "markdown",
   "id": "e0f6a657",
   "metadata": {
    "slideshow": {
     "slide_type": "slide"
    }
   },
   "source": [
    "对于`inputs`中的类别值或离散值，我们将“NaN”视为一个类别"
   ]
  },
  {
   "cell_type": "code",
   "execution_count": 4,
   "id": "e228a5d0",
   "metadata": {
    "execution": {
     "iopub.execute_input": "2022-07-31T02:47:43.574819Z",
     "iopub.status.busy": "2022-07-31T02:47:43.574477Z",
     "iopub.status.idle": "2022-07-31T02:47:43.584160Z",
     "shell.execute_reply": "2022-07-31T02:47:43.583511Z"
    },
    "origin_pos": 7,
    "tab": [
     "pytorch"
    ]
   },
   "outputs": [
    {
     "name": "stdout",
     "output_type": "stream",
     "text": [
      "   NumRooms  Alley_Pave  Alley_nan\n",
      "0       3.0           1          0\n",
      "1       2.0           0          1\n",
      "2       4.0           0          1\n",
      "3       3.0           0          1\n"
     ]
    }
   ],
   "source": [
    "inputs = pd.get_dummies(inputs, dummy_na=True)\n",
    "print(inputs)"
   ]
  },
  {
   "cell_type": "markdown",
   "id": "5a879b67",
   "metadata": {
    "slideshow": {
     "slide_type": "slide"
    }
   },
   "source": [
    "现在`inputs`和`outputs`中的所有条目都是数值类型，它们可以转换为张量格式"
   ]
  },
  {
   "cell_type": "code",
   "execution_count": 5,
   "id": "b6487a4f",
   "metadata": {
    "execution": {
     "iopub.execute_input": "2022-07-31T02:47:43.586980Z",
     "iopub.status.busy": "2022-07-31T02:47:43.586638Z",
     "iopub.status.idle": "2022-07-31T02:47:44.148381Z",
     "shell.execute_reply": "2022-07-31T02:47:44.147694Z"
    },
    "origin_pos": 10,
    "tab": [
     "pytorch"
    ]
   },
   "outputs": [
    {
     "data": {
      "text/plain": [
       "(tensor([[3., 1., 0.],\n",
       "         [2., 0., 1.],\n",
       "         [4., 0., 1.],\n",
       "         [3., 0., 1.]], dtype=torch.float64),\n",
       " tensor([127500, 106000, 178100, 140000]))"
      ]
     },
     "execution_count": 5,
     "metadata": {},
     "output_type": "execute_result"
    }
   ],
   "source": [
    "import torch\n",
    "\n",
    "X, y = torch.tensor(inputs.values), torch.tensor(outputs.values)\n",
    "X, y"
   ]
  }
 ],
 "metadata": {
  "celltoolbar": "Slideshow",
  "language_info": {
   "name": "python"
  },
  "rise": {
   "autolaunch": true,
   "enable_chalkboard": true,
   "overlay": "<div class='my-top-right'><img height=80px src='http://d2l.ai/_static/logo-with-text.png'/></div><div class='my-top-left'></div>",
   "scroll": true
  }
 },
 "nbformat": 4,
 "nbformat_minor": 5
}