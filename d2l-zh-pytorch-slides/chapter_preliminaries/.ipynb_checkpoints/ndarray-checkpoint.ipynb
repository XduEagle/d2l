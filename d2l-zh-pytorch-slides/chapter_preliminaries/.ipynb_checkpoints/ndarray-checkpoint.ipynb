{
 "cells": [
  {
   "cell_type": "markdown",
   "id": "c280a979",
   "metadata": {
    "slideshow": {
     "slide_type": "-"
    }
   },
   "source": [
    "# 数据操作\n",
    "\n"
   ]
  },
  {
   "cell_type": "markdown",
   "id": "0932e636",
   "metadata": {
    "slideshow": {
     "slide_type": "-"
    }
   },
   "source": [
    "首先，我们导入`torch`。请注意，虽然它被称为PyTorch，但是代码中使用`torch`而不是`pytorch`"
   ]
  },
  {
   "cell_type": "code",
   "execution_count": 1,
   "id": "f05fbe34",
   "metadata": {
    "execution": {
     "iopub.execute_input": "2022-07-31T02:18:13.962912Z",
     "iopub.status.busy": "2022-07-31T02:18:13.962445Z",
     "iopub.status.idle": "2022-07-31T02:18:14.683806Z",
     "shell.execute_reply": "2022-07-31T02:18:14.683047Z"
    },
    "origin_pos": 5,
    "tab": [
     "pytorch"
    ]
   },
   "outputs": [],
   "source": [
    "import torch"
   ]
  },
  {
   "cell_type": "markdown",
   "id": "ae9175c2",
   "metadata": {
    "slideshow": {
     "slide_type": "slide"
    }
   },
   "source": [
    "张量表示由一个数值组成的数组，这个数组可能有多个维度"
   ]
  },
  {
   "cell_type": "code",
   "execution_count": 2,
   "id": "0772c3dc",
   "metadata": {
    "execution": {
     "iopub.execute_input": "2022-07-31T02:18:14.687487Z",
     "iopub.status.busy": "2022-07-31T02:18:14.687092Z",
     "iopub.status.idle": "2022-07-31T02:18:14.698472Z",
     "shell.execute_reply": "2022-07-31T02:18:14.697874Z"
    },
    "origin_pos": 12,
    "tab": [
     "pytorch"
    ]
   },
   "outputs": [
    {
     "data": {
      "text/plain": [
       "tensor([ 0,  1,  2,  3,  4,  5,  6,  7,  8,  9, 10, 11])"
      ]
     },
     "execution_count": 2,
     "metadata": {},
     "output_type": "execute_result"
    }
   ],
   "source": [
    "x = torch.arange(12)\n",
    "x"
   ]
  },
  {
   "cell_type": "markdown",
   "id": "18b58d07",
   "metadata": {
    "slideshow": {
     "slide_type": "slide"
    }
   },
   "source": [
    "可以通过张量的`shape`属性来访问张量（沿每个轴的长度）的*形状*\n",
    "和张量中元素的总数"
   ]
  },
  {
   "cell_type": "code",
   "execution_count": 3,
   "id": "82eeca50",
   "metadata": {
    "execution": {
     "iopub.execute_input": "2022-07-31T02:18:14.703433Z",
     "iopub.status.busy": "2022-07-31T02:18:14.703051Z",
     "iopub.status.idle": "2022-07-31T02:18:14.708075Z",
     "shell.execute_reply": "2022-07-31T02:18:14.707270Z"
    },
    "origin_pos": 15,
    "tab": [
     "pytorch"
    ]
   },
   "outputs": [
    {
     "data": {
      "text/plain": [
       "torch.Size([12])"
      ]
     },
     "execution_count": 3,
     "metadata": {},
     "output_type": "execute_result"
    }
   ],
   "source": [
    "x.shape"
   ]
  },
  {
   "cell_type": "code",
   "execution_count": 4,
   "id": "d0e043a9",
   "metadata": {
    "execution": {
     "iopub.execute_input": "2022-07-31T02:18:14.711683Z",
     "iopub.status.busy": "2022-07-31T02:18:14.710908Z",
     "iopub.status.idle": "2022-07-31T02:18:14.716724Z",
     "shell.execute_reply": "2022-07-31T02:18:14.715786Z"
    },
    "origin_pos": 18,
    "tab": [
     "pytorch"
    ]
   },
   "outputs": [
    {
     "data": {
      "text/plain": [
       "12"
      ]
     },
     "execution_count": 4,
     "metadata": {},
     "output_type": "execute_result"
    }
   ],
   "source": [
    "x.numel()"
   ]
  },
  {
   "cell_type": "markdown",
   "id": "e8797016",
   "metadata": {
    "slideshow": {
     "slide_type": "slide"
    }
   },
   "source": [
    "要想改变一个张量的形状而不改变元素数量和元素值，可以调用`reshape`函数"
   ]
  },
  {
   "cell_type": "code",
   "execution_count": 5,
   "id": "4a0f1946",
   "metadata": {
    "execution": {
     "iopub.execute_input": "2022-07-31T02:18:14.719843Z",
     "iopub.status.busy": "2022-07-31T02:18:14.719478Z",
     "iopub.status.idle": "2022-07-31T02:18:14.726230Z",
     "shell.execute_reply": "2022-07-31T02:18:14.725362Z"
    },
    "origin_pos": 21,
    "tab": [
     "pytorch"
    ]
   },
   "outputs": [
    {
     "data": {
      "text/plain": [
       "tensor([[ 0,  1,  2,  3],\n",
       "        [ 4,  5,  6,  7],\n",
       "        [ 8,  9, 10, 11]])"
      ]
     },
     "execution_count": 5,
     "metadata": {},
     "output_type": "execute_result"
    }
   ],
   "source": [
    "X = x.reshape(3, 4)\n",
    "X"
   ]
  },
  {
   "cell_type": "markdown",
   "id": "f8d84cf5",
   "metadata": {
    "slideshow": {
     "slide_type": "slide"
    }
   },
   "source": [
    "使用全0、全1、其他常量，或者从特定分布中随机采样的数字"
   ]
  },
  {
   "cell_type": "code",
   "execution_count": 6,
   "id": "81129c4f",
   "metadata": {
    "execution": {
     "iopub.execute_input": "2022-07-31T02:18:14.730172Z",
     "iopub.status.busy": "2022-07-31T02:18:14.729443Z",
     "iopub.status.idle": "2022-07-31T02:18:14.736998Z",
     "shell.execute_reply": "2022-07-31T02:18:14.736078Z"
    },
    "origin_pos": 25,
    "tab": [
     "pytorch"
    ]
   },
   "outputs": [
    {
     "data": {
      "text/plain": [
       "tensor([[[0., 0., 0., 0.],\n",
       "         [0., 0., 0., 0.],\n",
       "         [0., 0., 0., 0.]],\n",
       "\n",
       "        [[0., 0., 0., 0.],\n",
       "         [0., 0., 0., 0.],\n",
       "         [0., 0., 0., 0.]]])"
      ]
     },
     "execution_count": 6,
     "metadata": {},
     "output_type": "execute_result"
    }
   ],
   "source": [
    "torch.zeros((2, 3, 4))"
   ]
  },
  {
   "cell_type": "code",
   "execution_count": 7,
   "id": "b67243de",
   "metadata": {
    "execution": {
     "iopub.execute_input": "2022-07-31T02:18:14.741124Z",
     "iopub.status.busy": "2022-07-31T02:18:14.740532Z",
     "iopub.status.idle": "2022-07-31T02:18:14.748021Z",
     "shell.execute_reply": "2022-07-31T02:18:14.747164Z"
    },
    "origin_pos": 29,
    "tab": [
     "pytorch"
    ]
   },
   "outputs": [
    {
     "data": {
      "text/plain": [
       "tensor([[[1., 1., 1., 1.],\n",
       "         [1., 1., 1., 1.],\n",
       "         [1., 1., 1., 1.]],\n",
       "\n",
       "        [[1., 1., 1., 1.],\n",
       "         [1., 1., 1., 1.],\n",
       "         [1., 1., 1., 1.]]])"
      ]
     },
     "execution_count": 7,
     "metadata": {},
     "output_type": "execute_result"
    }
   ],
   "source": [
    "torch.ones((2, 3, 4))"
   ]
  },
  {
   "cell_type": "code",
   "execution_count": 8,
   "id": "5227275f",
   "metadata": {
    "execution": {
     "iopub.execute_input": "2022-07-31T02:18:14.751936Z",
     "iopub.status.busy": "2022-07-31T02:18:14.751150Z",
     "iopub.status.idle": "2022-07-31T02:18:14.758391Z",
     "shell.execute_reply": "2022-07-31T02:18:14.757602Z"
    },
    "origin_pos": 33,
    "tab": [
     "pytorch"
    ]
   },
   "outputs": [
    {
     "data": {
      "text/plain": [
       "tensor([[-0.5582, -0.0443,  1.6146,  0.6003],\n",
       "        [-1.7652,  1.3074,  0.5233,  1.4372],\n",
       "        [ 0.2452,  2.2281,  1.3483,  0.1783]])"
      ]
     },
     "execution_count": 8,
     "metadata": {},
     "output_type": "execute_result"
    }
   ],
   "source": [
    "torch.randn(3, 4)"
   ]
  },
  {
   "cell_type": "markdown",
   "id": "50df55e1",
   "metadata": {
    "slideshow": {
     "slide_type": "slide"
    }
   },
   "source": [
    "通过提供包含数值的Python列表（或嵌套列表），来为所需张量中的每个元素赋予确定值"
   ]
  },
  {
   "cell_type": "code",
   "execution_count": 9,
   "id": "06f989db",
   "metadata": {
    "execution": {
     "iopub.execute_input": "2022-07-31T02:18:14.762256Z",
     "iopub.status.busy": "2022-07-31T02:18:14.761498Z",
     "iopub.status.idle": "2022-07-31T02:18:14.769515Z",
     "shell.execute_reply": "2022-07-31T02:18:14.768586Z"
    },
    "origin_pos": 37,
    "tab": [
     "pytorch"
    ]
   },
   "outputs": [
    {
     "data": {
      "text/plain": [
       "tensor([[2, 1, 4, 3],\n",
       "        [1, 2, 3, 4],\n",
       "        [4, 3, 2, 1]])"
      ]
     },
     "execution_count": 9,
     "metadata": {},
     "output_type": "execute_result"
    }
   ],
   "source": [
    "torch.tensor([[2, 1, 4, 3], [1, 2, 3, 4], [4, 3, 2, 1]])"
   ]
  },
  {
   "cell_type": "markdown",
   "id": "f9d3e014",
   "metadata": {
    "slideshow": {
     "slide_type": "slide"
    }
   },
   "source": [
    "常见的标准算术运算符（`+`、`-`、`*`、`/`和`**`）都可以被升级为按元素运算"
   ]
  },
  {
   "cell_type": "code",
   "execution_count": 10,
   "id": "c350a6ca",
   "metadata": {
    "execution": {
     "iopub.execute_input": "2022-07-31T02:18:14.773563Z",
     "iopub.status.busy": "2022-07-31T02:18:14.772808Z",
     "iopub.status.idle": "2022-07-31T02:18:14.784552Z",
     "shell.execute_reply": "2022-07-31T02:18:14.783458Z"
    },
    "origin_pos": 41,
    "tab": [
     "pytorch"
    ]
   },
   "outputs": [
    {
     "data": {
      "text/plain": [
       "(tensor([ 3.,  4.,  6., 10.]),\n",
       " tensor([-1.,  0.,  2.,  6.]),\n",
       " tensor([ 2.,  4.,  8., 16.]),\n",
       " tensor([0.5000, 1.0000, 2.0000, 4.0000]),\n",
       " tensor([ 1.,  4., 16., 64.]))"
      ]
     },
     "execution_count": 10,
     "metadata": {},
     "output_type": "execute_result"
    }
   ],
   "source": [
    "x = torch.tensor([1.0, 2, 4, 8])\n",
    "y = torch.tensor([2, 2, 2, 2])\n",
    "x + y, x - y, x * y, x / y, x ** y"
   ]
  },
  {
   "cell_type": "markdown",
   "id": "34039019",
   "metadata": {
    "slideshow": {
     "slide_type": "-"
    }
   },
   "source": [
    "“按元素”方式可以应用更多的计算"
   ]
  },
  {
   "cell_type": "code",
   "execution_count": 11,
   "id": "e4550d12",
   "metadata": {
    "execution": {
     "iopub.execute_input": "2022-07-31T02:18:14.788732Z",
     "iopub.status.busy": "2022-07-31T02:18:14.788133Z",
     "iopub.status.idle": "2022-07-31T02:18:14.796104Z",
     "shell.execute_reply": "2022-07-31T02:18:14.794959Z"
    },
    "origin_pos": 45,
    "tab": [
     "pytorch"
    ]
   },
   "outputs": [
    {
     "data": {
      "text/plain": [
       "tensor([2.7183e+00, 7.3891e+00, 5.4598e+01, 2.9810e+03])"
      ]
     },
     "execution_count": 11,
     "metadata": {},
     "output_type": "execute_result"
    }
   ],
   "source": [
    "torch.exp(x)"
   ]
  },
  {
   "cell_type": "markdown",
   "id": "e5c606b6",
   "metadata": {
    "slideshow": {
     "slide_type": "slide"
    }
   },
   "source": [
    "我们也可以把多个张量*连结*（concatenate）在一起"
   ]
  },
  {
   "cell_type": "code",
   "execution_count": 12,
   "id": "60fce770",
   "metadata": {
    "execution": {
     "iopub.execute_input": "2022-07-31T02:18:14.799639Z",
     "iopub.status.busy": "2022-07-31T02:18:14.799002Z",
     "iopub.status.idle": "2022-07-31T02:18:14.810588Z",
     "shell.execute_reply": "2022-07-31T02:18:14.809683Z"
    },
    "origin_pos": 49,
    "tab": [
     "pytorch"
    ]
   },
   "outputs": [
    {
     "data": {
      "text/plain": [
       "(tensor([[ 0.,  1.,  2.,  3.],\n",
       "         [ 4.,  5.,  6.,  7.],\n",
       "         [ 8.,  9., 10., 11.],\n",
       "         [ 2.,  1.,  4.,  3.],\n",
       "         [ 1.,  2.,  3.,  4.],\n",
       "         [ 4.,  3.,  2.,  1.]]),\n",
       " tensor([[ 0.,  1.,  2.,  3.,  2.,  1.,  4.,  3.],\n",
       "         [ 4.,  5.,  6.,  7.,  1.,  2.,  3.,  4.],\n",
       "         [ 8.,  9., 10., 11.,  4.,  3.,  2.,  1.]]))"
      ]
     },
     "execution_count": 12,
     "metadata": {},
     "output_type": "execute_result"
    }
   ],
   "source": [
    "X = torch.arange(12, dtype=torch.float32).reshape((3,4))\n",
    "Y = torch.tensor([[2.0, 1, 4, 3], [1, 2, 3, 4], [4, 3, 2, 1]])\n",
    "torch.cat((X, Y), dim=0), torch.cat((X, Y), dim=1)"
   ]
  },
  {
   "cell_type": "markdown",
   "id": "0ebe29d4",
   "metadata": {
    "slideshow": {
     "slide_type": "slide"
    }
   },
   "source": [
    "通过*逻辑运算符*构建二元张量"
   ]
  },
  {
   "cell_type": "code",
   "execution_count": 13,
   "id": "16aff702",
   "metadata": {
    "execution": {
     "iopub.execute_input": "2022-07-31T02:18:14.813799Z",
     "iopub.status.busy": "2022-07-31T02:18:14.813591Z",
     "iopub.status.idle": "2022-07-31T02:18:14.818445Z",
     "shell.execute_reply": "2022-07-31T02:18:14.817794Z"
    },
    "origin_pos": 52,
    "tab": [
     "pytorch"
    ]
   },
   "outputs": [
    {
     "data": {
      "text/plain": [
       "tensor([[False,  True, False,  True],\n",
       "        [False, False, False, False],\n",
       "        [False, False, False, False]])"
      ]
     },
     "execution_count": 13,
     "metadata": {},
     "output_type": "execute_result"
    }
   ],
   "source": [
    "X == Y"
   ]
  },
  {
   "cell_type": "markdown",
   "id": "6b235127",
   "metadata": {
    "slideshow": {
     "slide_type": "slide"
    }
   },
   "source": [
    "对张量中的所有元素进行求和，会产生一个单元素张量"
   ]
  },
  {
   "cell_type": "code",
   "execution_count": 14,
   "id": "2929b13d",
   "metadata": {
    "execution": {
     "iopub.execute_input": "2022-07-31T02:18:14.821528Z",
     "iopub.status.busy": "2022-07-31T02:18:14.821076Z",
     "iopub.status.idle": "2022-07-31T02:18:14.825960Z",
     "shell.execute_reply": "2022-07-31T02:18:14.825290Z"
    },
    "origin_pos": 54,
    "tab": [
     "pytorch"
    ]
   },
   "outputs": [
    {
     "data": {
      "text/plain": [
       "tensor(66.)"
      ]
     },
     "execution_count": 14,
     "metadata": {},
     "output_type": "execute_result"
    }
   ],
   "source": [
    "X.sum()"
   ]
  },
  {
   "cell_type": "markdown",
   "id": "69710ce4",
   "metadata": {
    "slideshow": {
     "slide_type": "slide"
    }
   },
   "source": [
    "即使形状不同，我们仍然可以通过调用\n",
    "*广播机制*（broadcasting mechanism）来执行按元素操作"
   ]
  },
  {
   "cell_type": "code",
   "execution_count": 15,
   "id": "8e6a50db",
   "metadata": {
    "execution": {
     "iopub.execute_input": "2022-07-31T02:18:14.828845Z",
     "iopub.status.busy": "2022-07-31T02:18:14.828629Z",
     "iopub.status.idle": "2022-07-31T02:18:14.835266Z",
     "shell.execute_reply": "2022-07-31T02:18:14.834338Z"
    },
    "origin_pos": 58,
    "tab": [
     "pytorch"
    ]
   },
   "outputs": [
    {
     "data": {
      "text/plain": [
       "(tensor([[0],\n",
       "         [1],\n",
       "         [2]]),\n",
       " tensor([[0, 1]]))"
      ]
     },
     "execution_count": 15,
     "metadata": {},
     "output_type": "execute_result"
    }
   ],
   "source": [
    "a = torch.arange(3).reshape((3, 1))\n",
    "b = torch.arange(2).reshape((1, 2))\n",
    "a, b"
   ]
  },
  {
   "cell_type": "code",
   "execution_count": 16,
   "id": "f97353c7",
   "metadata": {
    "execution": {
     "iopub.execute_input": "2022-07-31T02:18:14.839218Z",
     "iopub.status.busy": "2022-07-31T02:18:14.838457Z",
     "iopub.status.idle": "2022-07-31T02:18:14.845915Z",
     "shell.execute_reply": "2022-07-31T02:18:14.844907Z"
    },
    "origin_pos": 61,
    "tab": [
     "pytorch"
    ]
   },
   "outputs": [
    {
     "data": {
      "text/plain": [
       "tensor([[0, 1],\n",
       "        [1, 2],\n",
       "        [2, 3]])"
      ]
     },
     "execution_count": 16,
     "metadata": {},
     "output_type": "execute_result"
    }
   ],
   "source": [
    "a + b"
   ]
  },
  {
   "cell_type": "markdown",
   "id": "d3a822de",
   "metadata": {
    "slideshow": {
     "slide_type": "slide"
    }
   },
   "source": [
    "可以用`[-1]`选择最后一个元素，可以用`[1:3]`选择第二个和第三个元素"
   ]
  },
  {
   "cell_type": "code",
   "execution_count": 17,
   "id": "4fbbcf30",
   "metadata": {
    "execution": {
     "iopub.execute_input": "2022-07-31T02:18:14.849759Z",
     "iopub.status.busy": "2022-07-31T02:18:14.849160Z",
     "iopub.status.idle": "2022-07-31T02:18:14.856410Z",
     "shell.execute_reply": "2022-07-31T02:18:14.855540Z"
    },
    "origin_pos": 63,
    "tab": [
     "pytorch"
    ]
   },
   "outputs": [
    {
     "data": {
      "text/plain": [
       "(tensor([ 8.,  9., 10., 11.]),\n",
       " tensor([[ 4.,  5.,  6.,  7.],\n",
       "         [ 8.,  9., 10., 11.]]))"
      ]
     },
     "execution_count": 17,
     "metadata": {},
     "output_type": "execute_result"
    }
   ],
   "source": [
    "X[-1], X[1:3]"
   ]
  },
  {
   "cell_type": "markdown",
   "id": "42dbc578",
   "metadata": {
    "slideshow": {
     "slide_type": "slide"
    }
   },
   "source": [
    "除读取外，我们还可以通过指定索引来将元素写入矩阵"
   ]
  },
  {
   "cell_type": "code",
   "execution_count": 18,
   "id": "93a620d1",
   "metadata": {
    "execution": {
     "iopub.execute_input": "2022-07-31T02:18:14.860493Z",
     "iopub.status.busy": "2022-07-31T02:18:14.859755Z",
     "iopub.status.idle": "2022-07-31T02:18:14.866298Z",
     "shell.execute_reply": "2022-07-31T02:18:14.865434Z"
    },
    "origin_pos": 66,
    "tab": [
     "pytorch"
    ]
   },
   "outputs": [
    {
     "data": {
      "text/plain": [
       "tensor([[ 0.,  1.,  2.,  3.],\n",
       "        [ 4.,  5.,  9.,  7.],\n",
       "        [ 8.,  9., 10., 11.]])"
      ]
     },
     "execution_count": 18,
     "metadata": {},
     "output_type": "execute_result"
    }
   ],
   "source": [
    "X[1, 2] = 9\n",
    "X"
   ]
  },
  {
   "cell_type": "markdown",
   "id": "deace878",
   "metadata": {
    "slideshow": {
     "slide_type": "slide"
    }
   },
   "source": [
    "为多个元素赋值相同的值，我们只需要索引所有元素，然后为它们赋值"
   ]
  },
  {
   "cell_type": "code",
   "execution_count": 19,
   "id": "35bd3458",
   "metadata": {
    "execution": {
     "iopub.execute_input": "2022-07-31T02:18:14.869487Z",
     "iopub.status.busy": "2022-07-31T02:18:14.868918Z",
     "iopub.status.idle": "2022-07-31T02:18:14.875244Z",
     "shell.execute_reply": "2022-07-31T02:18:14.874325Z"
    },
    "origin_pos": 69,
    "tab": [
     "pytorch"
    ]
   },
   "outputs": [
    {
     "data": {
      "text/plain": [
       "tensor([[12., 12., 12., 12.],\n",
       "        [12., 12., 12., 12.],\n",
       "        [ 8.,  9., 10., 11.]])"
      ]
     },
     "execution_count": 19,
     "metadata": {},
     "output_type": "execute_result"
    }
   ],
   "source": [
    "X[0:2, :] = 12\n",
    "X"
   ]
  },
  {
   "cell_type": "markdown",
   "id": "f6e7c6b4",
   "metadata": {
    "slideshow": {
     "slide_type": "slide"
    }
   },
   "source": [
    "运行一些操作可能会导致为新结果分配内存"
   ]
  },
  {
   "cell_type": "code",
   "execution_count": 20,
   "id": "cd3cfd4b",
   "metadata": {
    "execution": {
     "iopub.execute_input": "2022-07-31T02:18:14.878510Z",
     "iopub.status.busy": "2022-07-31T02:18:14.878253Z",
     "iopub.status.idle": "2022-07-31T02:18:14.883781Z",
     "shell.execute_reply": "2022-07-31T02:18:14.882922Z"
    },
    "origin_pos": 72,
    "tab": [
     "pytorch"
    ]
   },
   "outputs": [
    {
     "data": {
      "text/plain": [
       "False"
      ]
     },
     "execution_count": 20,
     "metadata": {},
     "output_type": "execute_result"
    }
   ],
   "source": [
    "before = id(Y)\n",
    "Y = Y + X\n",
    "id(Y) == before"
   ]
  },
  {
   "cell_type": "markdown",
   "id": "4a108e63",
   "metadata": {
    "slideshow": {
     "slide_type": "-"
    }
   },
   "source": [
    "执行原地操作"
   ]
  },
  {
   "cell_type": "code",
   "execution_count": 21,
   "id": "0a8d07ca",
   "metadata": {
    "execution": {
     "iopub.execute_input": "2022-07-31T02:18:14.886922Z",
     "iopub.status.busy": "2022-07-31T02:18:14.886668Z",
     "iopub.status.idle": "2022-07-31T02:18:14.892130Z",
     "shell.execute_reply": "2022-07-31T02:18:14.891483Z"
    },
    "origin_pos": 77,
    "tab": [
     "pytorch"
    ]
   },
   "outputs": [
    {
     "name": "stdout",
     "output_type": "stream",
     "text": [
      "id(Z): 140316199714544\n",
      "id(Z): 140316199714544\n"
     ]
    }
   ],
   "source": [
    "Z = torch.zeros_like(Y)\n",
    "print('id(Z):', id(Z))\n",
    "Z[:] = X + Y\n",
    "print('id(Z):', id(Z))"
   ]
  },
  {
   "cell_type": "markdown",
   "id": "944c2625",
   "metadata": {
    "slideshow": {
     "slide_type": "slide"
    }
   },
   "source": [
    "如果在后续计算中没有重复使用`X`，\n",
    "我们也可以使用`X[:] = X + Y`或`X += Y`来减少操作的内存开销"
   ]
  },
  {
   "cell_type": "code",
   "execution_count": 22,
   "id": "dbe3b772",
   "metadata": {
    "execution": {
     "iopub.execute_input": "2022-07-31T02:18:14.895112Z",
     "iopub.status.busy": "2022-07-31T02:18:14.894585Z",
     "iopub.status.idle": "2022-07-31T02:18:14.900298Z",
     "shell.execute_reply": "2022-07-31T02:18:14.899621Z"
    },
    "origin_pos": 81,
    "tab": [
     "pytorch"
    ]
   },
   "outputs": [
    {
     "data": {
      "text/plain": [
       "True"
      ]
     },
     "execution_count": 22,
     "metadata": {},
     "output_type": "execute_result"
    }
   ],
   "source": [
    "before = id(X)\n",
    "X += Y\n",
    "id(X) == before"
   ]
  },
  {
   "cell_type": "markdown",
   "id": "07d15d77",
   "metadata": {
    "slideshow": {
     "slide_type": "slide"
    }
   },
   "source": [
    "转换为NumPy张量（`ndarray`）"
   ]
  },
  {
   "cell_type": "code",
   "execution_count": 23,
   "id": "d3d6ca45",
   "metadata": {
    "execution": {
     "iopub.execute_input": "2022-07-31T02:18:14.903817Z",
     "iopub.status.busy": "2022-07-31T02:18:14.903370Z",
     "iopub.status.idle": "2022-07-31T02:18:14.910321Z",
     "shell.execute_reply": "2022-07-31T02:18:14.909306Z"
    },
    "origin_pos": 87,
    "tab": [
     "pytorch"
    ]
   },
   "outputs": [
    {
     "data": {
      "text/plain": [
       "(numpy.ndarray, torch.Tensor)"
      ]
     },
     "execution_count": 23,
     "metadata": {},
     "output_type": "execute_result"
    }
   ],
   "source": [
    "A = X.numpy()\n",
    "B = torch.tensor(A)\n",
    "type(A), type(B)"
   ]
  },
  {
   "cell_type": "markdown",
   "id": "51dec009",
   "metadata": {
    "slideshow": {
     "slide_type": "-"
    }
   },
   "source": [
    "将大小为1的张量转换为Python标量"
   ]
  },
  {
   "cell_type": "code",
   "execution_count": 24,
   "id": "a1c47523",
   "metadata": {
    "execution": {
     "iopub.execute_input": "2022-07-31T02:18:14.913427Z",
     "iopub.status.busy": "2022-07-31T02:18:14.912724Z",
     "iopub.status.idle": "2022-07-31T02:18:14.920422Z",
     "shell.execute_reply": "2022-07-31T02:18:14.919387Z"
    },
    "origin_pos": 91,
    "tab": [
     "pytorch"
    ]
   },
   "outputs": [
    {
     "data": {
      "text/plain": [
       "(tensor([3.5000]), 3.5, 3.5, 3)"
      ]
     },
     "execution_count": 24,
     "metadata": {},
     "output_type": "execute_result"
    }
   ],
   "source": [
    "a = torch.tensor([3.5])\n",
    "a, a.item(), float(a), int(a)"
   ]
  }
 ],
 "metadata": {
  "celltoolbar": "Slideshow",
  "kernelspec": {
   "display_name": "Python 3 (ipykernel)",
   "language": "python",
   "name": "python3"
  },
  "language_info": {
   "codemirror_mode": {
    "name": "ipython",
    "version": 3
   },
   "file_extension": ".py",
   "mimetype": "text/x-python",
   "name": "python",
   "nbconvert_exporter": "python",
   "pygments_lexer": "ipython3",
   "version": "3.8.13"
  },
  "rise": {
   "autolaunch": true,
   "enable_chalkboard": true,
   "overlay": "<div class='my-top-right'><img height=80px src='http://d2l.ai/_static/logo-with-text.png'/></div><div class='my-top-left'></div>",
   "scroll": true
  }
 },
 "nbformat": 4,
 "nbformat_minor": 5
}
