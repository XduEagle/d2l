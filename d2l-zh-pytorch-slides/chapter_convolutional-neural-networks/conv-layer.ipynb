{
 "cells": [
  {
   "cell_type": "markdown",
   "id": "e7a8dc99",
   "metadata": {
    "slideshow": {
     "slide_type": "-"
    }
   },
   "source": [
    "# 图像卷积\n",
    "\n",
    "互相关运算"
   ]
  },
  {
   "cell_type": "code",
   "execution_count": 2,
   "id": "f727befb",
   "metadata": {
    "execution": {
     "iopub.execute_input": "2022-07-31T02:29:06.202461Z",
     "iopub.status.busy": "2022-07-31T02:29:06.202245Z",
     "iopub.status.idle": "2022-07-31T02:29:06.207535Z",
     "shell.execute_reply": "2022-07-31T02:29:06.206895Z"
    },
    "origin_pos": 3,
    "tab": [
     "pytorch"
    ]
   },
   "outputs": [],
   "source": [
    "import torch\n",
    "from torch import nn\n",
    "from d2l import torch as d2l\n",
    "\n",
    "def corr2d(X, K):  \n",
    "    \"\"\"计算二维互相关运算\"\"\"\n",
    "    h, w = K.shape\n",
    "    Y = torch.zeros((X.shape[0] - h + 1, X.shape[1] - w + 1))\n",
    "    for i in range(Y.shape[0]):\n",
    "        for j in range(Y.shape[1]):\n",
    "            Y[i, j] = (X[i:i + h, j:j + w] * K).sum()\n",
    "    return Y"
   ]
  },
  {
   "cell_type": "markdown",
   "id": "dfa92848",
   "metadata": {
    "slideshow": {
     "slide_type": "slide"
    }
   },
   "source": [
    "验证上述二维互相关运算的输出"
   ]
  },
  {
   "cell_type": "code",
   "execution_count": 3,
   "id": "c8b5f9fd",
   "metadata": {
    "execution": {
     "iopub.execute_input": "2022-07-31T02:29:06.210182Z",
     "iopub.status.busy": "2022-07-31T02:29:06.209977Z",
     "iopub.status.idle": "2022-07-31T02:29:06.218527Z",
     "shell.execute_reply": "2022-07-31T02:29:06.217894Z"
    },
    "origin_pos": 6,
    "tab": [
     "pytorch"
    ]
   },
   "outputs": [
    {
     "data": {
      "text/plain": [
       "tensor([[19., 25.],\n",
       "        [37., 43.]])"
      ]
     },
     "execution_count": 3,
     "metadata": {},
     "output_type": "execute_result"
    }
   ],
   "source": [
    "X = torch.tensor([[0.0, 1.0, 2.0], [3.0, 4.0, 5.0], [6.0, 7.0, 8.0]])\n",
    "K = torch.tensor([[0.0, 1.0], [2.0, 3.0]])\n",
    "corr2d(X, K)"
   ]
  },
  {
   "cell_type": "markdown",
   "id": "b7744707",
   "metadata": {
    "slideshow": {
     "slide_type": "slide"
    }
   },
   "source": [
    "实现二维卷积层"
   ]
  },
  {
   "cell_type": "code",
   "execution_count": 4,
   "id": "af8dd8ff",
   "metadata": {
    "execution": {
     "iopub.execute_input": "2022-07-31T02:29:06.221680Z",
     "iopub.status.busy": "2022-07-31T02:29:06.221238Z",
     "iopub.status.idle": "2022-07-31T02:29:06.225811Z",
     "shell.execute_reply": "2022-07-31T02:29:06.225186Z"
    },
    "origin_pos": 9,
    "tab": [
     "pytorch"
    ]
   },
   "outputs": [],
   "source": [
    "class Conv2D(nn.Module):\n",
    "    def __init__(self, kernel_size):\n",
    "        super().__init__()\n",
    "        self.weight = nn.Parameter(torch.rand(kernel_size))\n",
    "        self.bias = nn.Parameter(torch.zeros(1))\n",
    "\n",
    "    def forward(self, x):\n",
    "        return corr2d(x, self.weight) + self.bias"
   ]
  },
  {
   "cell_type": "markdown",
   "id": "0d8789a6",
   "metadata": {
    "slideshow": {
     "slide_type": "slide"
    }
   },
   "source": [
    "卷积层的一个简单应用：\n",
    "检测图像中不同颜色的边缘"
   ]
  },
  {
   "cell_type": "code",
   "execution_count": 5,
   "id": "56f6cfdf",
   "metadata": {
    "execution": {
     "iopub.execute_input": "2022-07-31T02:29:06.228717Z",
     "iopub.status.busy": "2022-07-31T02:29:06.228295Z",
     "iopub.status.idle": "2022-07-31T02:29:06.233997Z",
     "shell.execute_reply": "2022-07-31T02:29:06.233381Z"
    },
    "origin_pos": 12,
    "tab": [
     "pytorch"
    ]
   },
   "outputs": [
    {
     "data": {
      "text/plain": [
       "tensor([[1., 1., 0., 0., 0., 0., 1., 1.],\n",
       "        [1., 1., 0., 0., 0., 0., 1., 1.],\n",
       "        [1., 1., 0., 0., 0., 0., 1., 1.],\n",
       "        [1., 1., 0., 0., 0., 0., 1., 1.],\n",
       "        [1., 1., 0., 0., 0., 0., 1., 1.],\n",
       "        [1., 1., 0., 0., 0., 0., 1., 1.]])"
      ]
     },
     "execution_count": 5,
     "metadata": {},
     "output_type": "execute_result"
    }
   ],
   "source": [
    "X = torch.ones((6, 8))\n",
    "X[:, 2:6] = 0\n",
    "X"
   ]
  },
  {
   "cell_type": "code",
   "execution_count": 6,
   "id": "532f43d3",
   "metadata": {
    "execution": {
     "iopub.execute_input": "2022-07-31T02:29:06.236985Z",
     "iopub.status.busy": "2022-07-31T02:29:06.236563Z",
     "iopub.status.idle": "2022-07-31T02:29:06.240094Z",
     "shell.execute_reply": "2022-07-31T02:29:06.239462Z"
    },
    "origin_pos": 15,
    "tab": [
     "pytorch"
    ]
   },
   "outputs": [],
   "source": [
    "K = torch.tensor([[1.0, -1.0]])"
   ]
  },
  {
   "cell_type": "markdown",
   "id": "bf963a4d",
   "metadata": {
    "slideshow": {
     "slide_type": "slide"
    }
   },
   "source": [
    "输出`Y`中的1代表从白色到黑色的边缘，-1代表从黑色到白色的边缘"
   ]
  },
  {
   "cell_type": "code",
   "execution_count": 7,
   "id": "c637d949",
   "metadata": {
    "execution": {
     "iopub.execute_input": "2022-07-31T02:29:06.243087Z",
     "iopub.status.busy": "2022-07-31T02:29:06.242577Z",
     "iopub.status.idle": "2022-07-31T02:29:06.248745Z",
     "shell.execute_reply": "2022-07-31T02:29:06.248123Z"
    },
    "origin_pos": 17,
    "tab": [
     "pytorch"
    ]
   },
   "outputs": [
    {
     "data": {
      "text/plain": [
       "tensor([[ 0.,  1.,  0.,  0.,  0., -1.,  0.],\n",
       "        [ 0.,  1.,  0.,  0.,  0., -1.,  0.],\n",
       "        [ 0.,  1.,  0.,  0.,  0., -1.,  0.],\n",
       "        [ 0.,  1.,  0.,  0.,  0., -1.,  0.],\n",
       "        [ 0.,  1.,  0.,  0.,  0., -1.,  0.],\n",
       "        [ 0.,  1.,  0.,  0.,  0., -1.,  0.]])"
      ]
     },
     "execution_count": 7,
     "metadata": {},
     "output_type": "execute_result"
    }
   ],
   "source": [
    "Y = corr2d(X, K)\n",
    "Y"
   ]
  },
  {
   "cell_type": "markdown",
   "id": "2faf1e51",
   "metadata": {
    "slideshow": {
     "slide_type": "slide"
    }
   },
   "source": [
    "卷积核`K`只可以检测垂直边缘"
   ]
  },
  {
   "cell_type": "code",
   "execution_count": 8,
   "id": "ac423eb5",
   "metadata": {
    "execution": {
     "iopub.execute_input": "2022-07-31T02:29:06.251821Z",
     "iopub.status.busy": "2022-07-31T02:29:06.251251Z",
     "iopub.status.idle": "2022-07-31T02:29:06.257279Z",
     "shell.execute_reply": "2022-07-31T02:29:06.256665Z"
    },
    "origin_pos": 19,
    "tab": [
     "pytorch"
    ]
   },
   "outputs": [
    {
     "data": {
      "text/plain": [
       "tensor([[0., 0., 0., 0., 0.],\n",
       "        [0., 0., 0., 0., 0.],\n",
       "        [0., 0., 0., 0., 0.],\n",
       "        [0., 0., 0., 0., 0.],\n",
       "        [0., 0., 0., 0., 0.],\n",
       "        [0., 0., 0., 0., 0.],\n",
       "        [0., 0., 0., 0., 0.],\n",
       "        [0., 0., 0., 0., 0.]])"
      ]
     },
     "execution_count": 8,
     "metadata": {},
     "output_type": "execute_result"
    }
   ],
   "source": [
    "corr2d(X.t(), K)"
   ]
  },
  {
   "cell_type": "markdown",
   "id": "c725c9f9",
   "metadata": {
    "slideshow": {
     "slide_type": "slide"
    }
   },
   "source": [
    "学习由`X`生成`Y`的卷积核"
   ]
  },
  {
   "cell_type": "code",
   "execution_count": 9,
   "id": "01e8ed4e",
   "metadata": {
    "execution": {
     "iopub.execute_input": "2022-07-31T02:29:06.260238Z",
     "iopub.status.busy": "2022-07-31T02:29:06.259812Z",
     "iopub.status.idle": "2022-07-31T02:29:06.274613Z",
     "shell.execute_reply": "2022-07-31T02:29:06.273942Z"
    },
    "origin_pos": 22,
    "tab": [
     "pytorch"
    ]
   },
   "outputs": [
    {
     "name": "stdout",
     "output_type": "stream",
     "text": [
      "epoch 2, loss 4.735\n",
      "epoch 4, loss 0.874\n",
      "epoch 6, loss 0.179\n",
      "epoch 8, loss 0.043\n",
      "epoch 10, loss 0.013\n"
     ]
    }
   ],
   "source": [
    "conv2d = nn.Conv2d(1,1, kernel_size=(1, 2), bias=False)\n",
    "\n",
    "X = X.reshape((1, 1, 6, 8))\n",
    "Y = Y.reshape((1, 1, 6, 7))\n",
    "lr = 3e-2\n",
    "\n",
    "for i in range(10):\n",
    "    Y_hat = conv2d(X)\n",
    "    l = (Y_hat - Y) ** 2\n",
    "    conv2d.zero_grad()\n",
    "    l.sum().backward()\n",
    "    conv2d.weight.data[:] -= lr * conv2d.weight.grad\n",
    "    if (i + 1) % 2 == 0:\n",
    "        print(f'epoch {i+1}, loss {l.sum():.3f}')"
   ]
  },
  {
   "cell_type": "markdown",
   "id": "fc6a33cb",
   "metadata": {
    "slideshow": {
     "slide_type": "slide"
    }
   },
   "source": [
    "所学的卷积核的权重张量"
   ]
  },
  {
   "cell_type": "code",
   "execution_count": 10,
   "id": "e6cdd8f3",
   "metadata": {
    "execution": {
     "iopub.execute_input": "2022-07-31T02:29:06.277496Z",
     "iopub.status.busy": "2022-07-31T02:29:06.277286Z",
     "iopub.status.idle": "2022-07-31T02:29:06.282787Z",
     "shell.execute_reply": "2022-07-31T02:29:06.282165Z"
    },
    "origin_pos": 26,
    "tab": [
     "pytorch"
    ]
   },
   "outputs": [
    {
     "data": {
      "text/plain": [
       "tensor([[ 0.9990, -0.9791]])"
      ]
     },
     "execution_count": 10,
     "metadata": {},
     "output_type": "execute_result"
    }
   ],
   "source": [
    "conv2d.weight.data.reshape((1, 2))"
   ]
  }
 ],
 "metadata": {
  "celltoolbar": "Slideshow",
  "language_info": {
   "name": "python"
  },
  "rise": {
   "autolaunch": true,
   "enable_chalkboard": true,
   "overlay": "<div class='my-top-right'><img height=80px src='http://d2l.ai/_static/logo-with-text.png'/></div><div class='my-top-left'></div>",
   "scroll": true
  }
 },
 "nbformat": 4,
 "nbformat_minor": 5
}