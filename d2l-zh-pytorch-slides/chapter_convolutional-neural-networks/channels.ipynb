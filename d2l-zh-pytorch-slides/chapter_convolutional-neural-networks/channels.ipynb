{
 "cells": [
  {
   "cell_type": "markdown",
   "id": "6639ad09",
   "metadata": {
    "slideshow": {
     "slide_type": "-"
    }
   },
   "source": [
    "# 多输入多输出通道\n",
    "\n",
    "实现一下多输入通道互相关运算"
   ]
  },
  {
   "cell_type": "code",
   "execution_count": 2,
   "id": "4b683b79",
   "metadata": {
    "execution": {
     "iopub.execute_input": "2022-07-31T02:22:09.601031Z",
     "iopub.status.busy": "2022-07-31T02:22:09.600599Z",
     "iopub.status.idle": "2022-07-31T02:22:09.605146Z",
     "shell.execute_reply": "2022-07-31T02:22:09.604514Z"
    },
    "origin_pos": 3,
    "tab": [
     "pytorch"
    ]
   },
   "outputs": [],
   "source": [
    "import torch\n",
    "from d2l import torch as d2l\n",
    "\n",
    "def corr2d_multi_in(X, K):\n",
    "    return sum(d2l.corr2d(x, k) for x, k in zip(X, K))"
   ]
  },
  {
   "cell_type": "markdown",
   "id": "24c5f8ff",
   "metadata": {
    "slideshow": {
     "slide_type": "-"
    }
   },
   "source": [
    "验证互相关运算的输出"
   ]
  },
  {
   "cell_type": "code",
   "execution_count": 3,
   "id": "a424424d",
   "metadata": {
    "execution": {
     "iopub.execute_input": "2022-07-31T02:22:09.608143Z",
     "iopub.status.busy": "2022-07-31T02:22:09.607774Z",
     "iopub.status.idle": "2022-07-31T02:22:09.617860Z",
     "shell.execute_reply": "2022-07-31T02:22:09.617199Z"
    },
    "origin_pos": 6,
    "tab": [
     "pytorch"
    ]
   },
   "outputs": [
    {
     "data": {
      "text/plain": [
       "tensor([[ 56.,  72.],\n",
       "        [104., 120.]])"
      ]
     },
     "execution_count": 3,
     "metadata": {},
     "output_type": "execute_result"
    }
   ],
   "source": [
    "X = torch.tensor([[[0.0, 1.0, 2.0], [3.0, 4.0, 5.0], [6.0, 7.0, 8.0]],\n",
    "               [[1.0, 2.0, 3.0], [4.0, 5.0, 6.0], [7.0, 8.0, 9.0]]])\n",
    "K = torch.tensor([[[0.0, 1.0], [2.0, 3.0]], [[1.0, 2.0], [3.0, 4.0]]])\n",
    "\n",
    "corr2d_multi_in(X, K)"
   ]
  },
  {
   "cell_type": "markdown",
   "id": "46383bfc",
   "metadata": {
    "slideshow": {
     "slide_type": "slide"
    }
   },
   "source": [
    "计算多个通道的输出的互相关函数"
   ]
  },
  {
   "cell_type": "code",
   "execution_count": 5,
   "id": "1e4375ac",
   "metadata": {
    "execution": {
     "iopub.execute_input": "2022-07-31T02:22:09.628621Z",
     "iopub.status.busy": "2022-07-31T02:22:09.628413Z",
     "iopub.status.idle": "2022-07-31T02:22:09.633947Z",
     "shell.execute_reply": "2022-07-31T02:22:09.633140Z"
    },
    "origin_pos": 10,
    "tab": [
     "pytorch"
    ]
   },
   "outputs": [
    {
     "data": {
      "text/plain": [
       "torch.Size([3, 2, 2, 2])"
      ]
     },
     "execution_count": 5,
     "metadata": {},
     "output_type": "execute_result"
    }
   ],
   "source": [
    "def corr2d_multi_in_out(X, K):\n",
    "    return torch.stack([corr2d_multi_in(X, k) for k in K], 0)\n",
    "\n",
    "K = torch.stack((K, K + 1, K + 2), 0)\n",
    "K.shape"
   ]
  },
  {
   "cell_type": "code",
   "execution_count": 6,
   "id": "eb57b73c",
   "metadata": {
    "execution": {
     "iopub.execute_input": "2022-07-31T02:22:09.636869Z",
     "iopub.status.busy": "2022-07-31T02:22:09.636646Z",
     "iopub.status.idle": "2022-07-31T02:22:09.644036Z",
     "shell.execute_reply": "2022-07-31T02:22:09.643274Z"
    },
    "origin_pos": 12,
    "tab": [
     "pytorch"
    ]
   },
   "outputs": [
    {
     "data": {
      "text/plain": [
       "tensor([[[ 56.,  72.],\n",
       "         [104., 120.]],\n",
       "\n",
       "        [[ 76., 100.],\n",
       "         [148., 172.]],\n",
       "\n",
       "        [[ 96., 128.],\n",
       "         [192., 224.]]])"
      ]
     },
     "execution_count": 6,
     "metadata": {},
     "output_type": "execute_result"
    }
   ],
   "source": [
    "corr2d_multi_in_out(X, K)"
   ]
  },
  {
   "cell_type": "markdown",
   "id": "d36c5df3",
   "metadata": {
    "slideshow": {
     "slide_type": "slide"
    }
   },
   "source": [
    "1x1卷积"
   ]
  },
  {
   "cell_type": "code",
   "execution_count": 9,
   "id": "cb82ad49",
   "metadata": {
    "execution": {
     "iopub.execute_input": "2022-07-31T02:22:09.661408Z",
     "iopub.status.busy": "2022-07-31T02:22:09.661189Z",
     "iopub.status.idle": "2022-07-31T02:22:09.667370Z",
     "shell.execute_reply": "2022-07-31T02:22:09.666467Z"
    },
    "origin_pos": 18,
    "tab": [
     "pytorch"
    ]
   },
   "outputs": [],
   "source": [
    "def corr2d_multi_in_out_1x1(X, K):\n",
    "    c_i, h, w = X.shape\n",
    "    c_o = K.shape[0]\n",
    "    X = X.reshape((c_i, h * w))\n",
    "    K = K.reshape((c_o, c_i))\n",
    "    Y = torch.matmul(K, X)\n",
    "    return Y.reshape((c_o, h, w))\n",
    "\n",
    "X = torch.normal(0, 1, (3, 3, 3))\n",
    "K = torch.normal(0, 1, (2, 3, 1, 1))\n",
    "\n",
    "Y1 = corr2d_multi_in_out_1x1(X, K)\n",
    "Y2 = corr2d_multi_in_out(X, K)\n",
    "assert float(torch.abs(Y1 - Y2).sum()) < 1e-6"
   ]
  }
 ],
 "metadata": {
  "celltoolbar": "Slideshow",
  "language_info": {
   "name": "python"
  },
  "rise": {
   "autolaunch": true,
   "enable_chalkboard": true,
   "overlay": "<div class='my-top-right'><img height=80px src='http://d2l.ai/_static/logo-with-text.png'/></div><div class='my-top-left'></div>",
   "scroll": true
  }
 },
 "nbformat": 4,
 "nbformat_minor": 5
}